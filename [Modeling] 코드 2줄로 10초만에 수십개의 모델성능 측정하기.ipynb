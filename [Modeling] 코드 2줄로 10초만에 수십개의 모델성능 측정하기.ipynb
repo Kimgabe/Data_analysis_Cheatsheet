{
 "cells": [
  {
   "cell_type": "markdown",
   "metadata": {},
   "source": [
    "# Intro\n",
    "---\n",
    "\n",
    "- LazyPredict는 몇초만에 여러개의 모델을 동시에 테스트하여 성능 측정해주는 모듈이다.\n",
    "- sklearn을 활용하여 작동되는 모듈이다. \n",
    "- 전처리된 데이터와 2~3줄의 코드만 있으면 바로 사용 가능하다는 점이 매우 유용하다."
   ]
  },
  {
   "cell_type": "code",
   "execution_count": 1,
   "metadata": {
    "ExecuteTime": {
     "end_time": "2021-11-08T10:35:42.289774Z",
     "start_time": "2021-11-08T10:35:42.279834Z"
    }
   },
   "outputs": [],
   "source": [
    "#!pip install lazypredict --user"
   ]
  },
  {
   "cell_type": "code",
   "execution_count": 2,
   "metadata": {
    "ExecuteTime": {
     "end_time": "2021-11-08T10:35:42.984938Z",
     "start_time": "2021-11-08T10:35:42.291770Z"
    }
   },
   "outputs": [],
   "source": [
    "# 기초 전처리\n",
    "import pandas as pd\n",
    "\n",
    "# 컬럼 전체 확인 가능하도록 출력 범위 설정\n",
    "pd.set_option('display.max_columns', 500)\n",
    "pd.set_option('display.width', 10000)\n",
    "\n",
    "# 불필요한 경고 표시 생략\n",
    "import warnings\n",
    "warnings.filterwarnings(action = 'ignore')\n",
    "\n",
    "# pandas 결과값의 표현 범위 소수점 2자리수로 변경\n",
    "pd.options.display.float_format = '{:.2f}'.format\n",
    "\n",
    "# 파일 로드위한 directory 확인 및 현재 경로로 설정\n",
    "import os\n",
    "a = os.getcwd()\n",
    "os.chdir(a)"
   ]
  },
  {
   "cell_type": "markdown",
   "metadata": {},
   "source": [
    "# 분류 모델"
   ]
  },
  {
   "cell_type": "markdown",
   "metadata": {},
   "source": [
    "## 데이터 로드"
   ]
  },
  {
   "cell_type": "code",
   "execution_count": 3,
   "metadata": {
    "ExecuteTime": {
     "end_time": "2021-11-08T10:35:43.014887Z",
     "start_time": "2021-11-08T10:35:42.986933Z"
    }
   },
   "outputs": [
    {
     "data": {
      "text/html": [
       "<div>\n",
       "<style scoped>\n",
       "    .dataframe tbody tr th:only-of-type {\n",
       "        vertical-align: middle;\n",
       "    }\n",
       "\n",
       "    .dataframe tbody tr th {\n",
       "        vertical-align: top;\n",
       "    }\n",
       "\n",
       "    .dataframe thead th {\n",
       "        text-align: right;\n",
       "    }\n",
       "</style>\n",
       "<table border=\"1\" class=\"dataframe\">\n",
       "  <thead>\n",
       "    <tr style=\"text-align: right;\">\n",
       "      <th></th>\n",
       "      <th>age</th>\n",
       "      <th>creatinine_phosphokinase</th>\n",
       "      <th>ejection_fraction</th>\n",
       "      <th>platelets</th>\n",
       "      <th>serum_creatinine</th>\n",
       "      <th>serum_sodium</th>\n",
       "      <th>anaemia</th>\n",
       "      <th>diabetes</th>\n",
       "      <th>high_blood_pressure</th>\n",
       "      <th>sex</th>\n",
       "      <th>smoking</th>\n",
       "      <th>DEATH_EVENT</th>\n",
       "    </tr>\n",
       "  </thead>\n",
       "  <tbody>\n",
       "    <tr>\n",
       "      <th>0</th>\n",
       "      <td>1.19</td>\n",
       "      <td>0.00</td>\n",
       "      <td>-1.53</td>\n",
       "      <td>0.02</td>\n",
       "      <td>0.49</td>\n",
       "      <td>-1.50</td>\n",
       "      <td>0</td>\n",
       "      <td>0</td>\n",
       "      <td>1</td>\n",
       "      <td>1</td>\n",
       "      <td>0</td>\n",
       "      <td>1</td>\n",
       "    </tr>\n",
       "    <tr>\n",
       "      <th>1</th>\n",
       "      <td>-0.49</td>\n",
       "      <td>7.51</td>\n",
       "      <td>-0.01</td>\n",
       "      <td>0.00</td>\n",
       "      <td>-0.28</td>\n",
       "      <td>-0.14</td>\n",
       "      <td>0</td>\n",
       "      <td>0</td>\n",
       "      <td>0</td>\n",
       "      <td>1</td>\n",
       "      <td>0</td>\n",
       "      <td>1</td>\n",
       "    </tr>\n",
       "    <tr>\n",
       "      <th>2</th>\n",
       "      <td>0.35</td>\n",
       "      <td>-0.45</td>\n",
       "      <td>-1.53</td>\n",
       "      <td>-1.04</td>\n",
       "      <td>-0.09</td>\n",
       "      <td>-1.73</td>\n",
       "      <td>0</td>\n",
       "      <td>0</td>\n",
       "      <td>0</td>\n",
       "      <td>1</td>\n",
       "      <td>1</td>\n",
       "      <td>1</td>\n",
       "    </tr>\n",
       "    <tr>\n",
       "      <th>3</th>\n",
       "      <td>-0.91</td>\n",
       "      <td>-0.49</td>\n",
       "      <td>-1.53</td>\n",
       "      <td>-0.55</td>\n",
       "      <td>0.49</td>\n",
       "      <td>0.09</td>\n",
       "      <td>1</td>\n",
       "      <td>0</td>\n",
       "      <td>0</td>\n",
       "      <td>1</td>\n",
       "      <td>0</td>\n",
       "      <td>1</td>\n",
       "    </tr>\n",
       "    <tr>\n",
       "      <th>4</th>\n",
       "      <td>0.35</td>\n",
       "      <td>-0.44</td>\n",
       "      <td>-1.53</td>\n",
       "      <td>0.65</td>\n",
       "      <td>1.26</td>\n",
       "      <td>-4.68</td>\n",
       "      <td>1</td>\n",
       "      <td>1</td>\n",
       "      <td>0</td>\n",
       "      <td>0</td>\n",
       "      <td>0</td>\n",
       "      <td>1</td>\n",
       "    </tr>\n",
       "    <tr>\n",
       "      <th>...</th>\n",
       "      <td>...</td>\n",
       "      <td>...</td>\n",
       "      <td>...</td>\n",
       "      <td>...</td>\n",
       "      <td>...</td>\n",
       "      <td>...</td>\n",
       "      <td>...</td>\n",
       "      <td>...</td>\n",
       "      <td>...</td>\n",
       "      <td>...</td>\n",
       "      <td>...</td>\n",
       "      <td>...</td>\n",
       "    </tr>\n",
       "    <tr>\n",
       "      <th>294</th>\n",
       "      <td>0.10</td>\n",
       "      <td>-0.54</td>\n",
       "      <td>-0.01</td>\n",
       "      <td>-1.11</td>\n",
       "      <td>-0.28</td>\n",
       "      <td>1.45</td>\n",
       "      <td>0</td>\n",
       "      <td>1</td>\n",
       "      <td>1</td>\n",
       "      <td>1</td>\n",
       "      <td>1</td>\n",
       "      <td>0</td>\n",
       "    </tr>\n",
       "    <tr>\n",
       "      <th>295</th>\n",
       "      <td>-0.49</td>\n",
       "      <td>1.28</td>\n",
       "      <td>-0.01</td>\n",
       "      <td>0.07</td>\n",
       "      <td>-0.19</td>\n",
       "      <td>0.54</td>\n",
       "      <td>0</td>\n",
       "      <td>0</td>\n",
       "      <td>0</td>\n",
       "      <td>0</td>\n",
       "      <td>0</td>\n",
       "      <td>0</td>\n",
       "    </tr>\n",
       "    <tr>\n",
       "      <th>296</th>\n",
       "      <td>-1.33</td>\n",
       "      <td>1.53</td>\n",
       "      <td>1.85</td>\n",
       "      <td>4.90</td>\n",
       "      <td>-0.58</td>\n",
       "      <td>0.31</td>\n",
       "      <td>0</td>\n",
       "      <td>1</td>\n",
       "      <td>0</td>\n",
       "      <td>0</td>\n",
       "      <td>0</td>\n",
       "      <td>0</td>\n",
       "    </tr>\n",
       "    <tr>\n",
       "      <th>297</th>\n",
       "      <td>-1.33</td>\n",
       "      <td>1.89</td>\n",
       "      <td>-0.01</td>\n",
       "      <td>-1.26</td>\n",
       "      <td>0.01</td>\n",
       "      <td>0.77</td>\n",
       "      <td>0</td>\n",
       "      <td>0</td>\n",
       "      <td>0</td>\n",
       "      <td>1</td>\n",
       "      <td>1</td>\n",
       "      <td>0</td>\n",
       "    </tr>\n",
       "    <tr>\n",
       "      <th>298</th>\n",
       "      <td>-0.91</td>\n",
       "      <td>-0.40</td>\n",
       "      <td>0.59</td>\n",
       "      <td>1.35</td>\n",
       "      <td>0.20</td>\n",
       "      <td>-0.14</td>\n",
       "      <td>0</td>\n",
       "      <td>0</td>\n",
       "      <td>0</td>\n",
       "      <td>1</td>\n",
       "      <td>1</td>\n",
       "      <td>0</td>\n",
       "    </tr>\n",
       "  </tbody>\n",
       "</table>\n",
       "<p>299 rows × 12 columns</p>\n",
       "</div>"
      ],
      "text/plain": [
       "      age  creatinine_phosphokinase  ejection_fraction  platelets  serum_creatinine  serum_sodium  anaemia  diabetes  high_blood_pressure  sex  smoking  DEATH_EVENT\n",
       "0    1.19                      0.00              -1.53       0.02              0.49         -1.50        0         0                    1    1        0            1\n",
       "1   -0.49                      7.51              -0.01       0.00             -0.28         -0.14        0         0                    0    1        0            1\n",
       "2    0.35                     -0.45              -1.53      -1.04             -0.09         -1.73        0         0                    0    1        1            1\n",
       "3   -0.91                     -0.49              -1.53      -0.55              0.49          0.09        1         0                    0    1        0            1\n",
       "4    0.35                     -0.44              -1.53       0.65              1.26         -4.68        1         1                    0    0        0            1\n",
       "..    ...                       ...                ...        ...               ...           ...      ...       ...                  ...  ...      ...          ...\n",
       "294  0.10                     -0.54              -0.01      -1.11             -0.28          1.45        0         1                    1    1        1            0\n",
       "295 -0.49                      1.28              -0.01       0.07             -0.19          0.54        0         0                    0    0        0            0\n",
       "296 -1.33                      1.53               1.85       4.90             -0.58          0.31        0         1                    0    0        0            0\n",
       "297 -1.33                      1.89              -0.01      -1.26              0.01          0.77        0         0                    0    1        1            0\n",
       "298 -0.91                     -0.40               0.59       1.35              0.20         -0.14        0         0                    0    1        1            0\n",
       "\n",
       "[299 rows x 12 columns]"
      ]
     },
     "execution_count": 3,
     "metadata": {},
     "output_type": "execute_result"
    }
   ],
   "source": [
    "# kaggle의 심부전증 데이터 활용\n",
    "df = pd.read_csv(\"./data/heart_failure.csv\")\n",
    "df"
   ]
  },
  {
   "cell_type": "markdown",
   "metadata": {},
   "source": [
    "데이터 출처: https://www.kaggle.com/andrewmvd/heart-failure-clinical-data"
   ]
  },
  {
   "cell_type": "markdown",
   "metadata": {},
   "source": [
    "## Train / Test split"
   ]
  },
  {
   "cell_type": "code",
   "execution_count": 4,
   "metadata": {
    "ExecuteTime": {
     "end_time": "2021-11-08T10:35:43.029818Z",
     "start_time": "2021-11-08T10:35:43.017851Z"
    }
   },
   "outputs": [],
   "source": [
    "y = df['DEATH_EVENT']\n",
    "X = df.iloc[:,:-1]"
   ]
  },
  {
   "cell_type": "code",
   "execution_count": 5,
   "metadata": {
    "ExecuteTime": {
     "end_time": "2021-11-08T10:35:43.739204Z",
     "start_time": "2021-11-08T10:35:43.030845Z"
    }
   },
   "outputs": [],
   "source": [
    "from sklearn.model_selection import train_test_split\n",
    "X_train, X_test, y_train, y_test = train_test_split(X,y, random_state=42)"
   ]
  },
  {
   "cell_type": "markdown",
   "metadata": {},
   "source": [
    "## lazypredict로 분류모델 성능 예측"
   ]
  },
  {
   "cell_type": "code",
   "execution_count": 6,
   "metadata": {
    "ExecuteTime": {
     "end_time": "2021-11-08T10:35:45.897626Z",
     "start_time": "2021-11-08T10:35:43.740198Z"
    }
   },
   "outputs": [
    {
     "data": {
      "text/html": [
       "<style type='text/css'>\n",
       ".datatable table.frame { margin-bottom: 0; }\n",
       ".datatable table.frame thead { border-bottom: none; }\n",
       ".datatable table.frame tr.coltypes td {  color: #FFFFFF;  line-height: 6px;  padding: 0 0.5em;}\n",
       ".datatable .bool    { background: #DDDD99; }\n",
       ".datatable .object  { background: #565656; }\n",
       ".datatable .int     { background: #5D9E5D; }\n",
       ".datatable .float   { background: #4040CC; }\n",
       ".datatable .str     { background: #CC4040; }\n",
       ".datatable .time    { background: #40CC40; }\n",
       ".datatable .row_index {  background: var(--jp-border-color3);  border-right: 1px solid var(--jp-border-color0);  color: var(--jp-ui-font-color3);  font-size: 9px;}\n",
       ".datatable .frame tbody td { text-align: left; }\n",
       ".datatable .frame tr.coltypes .row_index {  background: var(--jp-border-color0);}\n",
       ".datatable th:nth-child(2) { padding-left: 12px; }\n",
       ".datatable .hellipsis {  color: var(--jp-cell-editor-border-color);}\n",
       ".datatable .vellipsis {  background: var(--jp-layout-color0);  color: var(--jp-cell-editor-border-color);}\n",
       ".datatable .na {  color: var(--jp-cell-editor-border-color);  font-size: 80%;}\n",
       ".datatable .sp {  opacity: 0.25;}\n",
       ".datatable .footer { font-size: 9px; }\n",
       ".datatable .frame_dimensions {  background: var(--jp-border-color3);  border-top: 1px solid var(--jp-border-color0);  color: var(--jp-ui-font-color3);  display: inline-block;  opacity: 0.6;  padding: 1px 10px 1px 5px;}\n",
       "</style>\n"
      ],
      "text/plain": [
       "<IPython.core.display.HTML object>"
      ]
     },
     "metadata": {},
     "output_type": "display_data"
    },
    {
     "name": "stderr",
     "output_type": "stream",
     "text": [
      "100%|██████████████████████████████████████████████████████████████████████████████████| 29/29 [00:00<00:00, 30.58it/s]\n"
     ]
    },
    {
     "data": {
      "text/html": [
       "<div>\n",
       "<style scoped>\n",
       "    .dataframe tbody tr th:only-of-type {\n",
       "        vertical-align: middle;\n",
       "    }\n",
       "\n",
       "    .dataframe tbody tr th {\n",
       "        vertical-align: top;\n",
       "    }\n",
       "\n",
       "    .dataframe thead th {\n",
       "        text-align: right;\n",
       "    }\n",
       "</style>\n",
       "<table border=\"1\" class=\"dataframe\">\n",
       "  <thead>\n",
       "    <tr style=\"text-align: right;\">\n",
       "      <th></th>\n",
       "      <th>Model</th>\n",
       "      <th>Accuracy</th>\n",
       "      <th>Balanced Accuracy</th>\n",
       "      <th>ROC AUC</th>\n",
       "      <th>F1 Score</th>\n",
       "      <th>Time Taken</th>\n",
       "    </tr>\n",
       "  </thead>\n",
       "  <tbody>\n",
       "    <tr>\n",
       "      <th>0</th>\n",
       "      <td>Perceptron</td>\n",
       "      <td>0.71</td>\n",
       "      <td>0.69</td>\n",
       "      <td>0.69</td>\n",
       "      <td>0.71</td>\n",
       "      <td>0.01</td>\n",
       "    </tr>\n",
       "    <tr>\n",
       "      <th>1</th>\n",
       "      <td>BaggingClassifier</td>\n",
       "      <td>0.71</td>\n",
       "      <td>0.68</td>\n",
       "      <td>0.68</td>\n",
       "      <td>0.70</td>\n",
       "      <td>0.04</td>\n",
       "    </tr>\n",
       "    <tr>\n",
       "      <th>2</th>\n",
       "      <td>NearestCentroid</td>\n",
       "      <td>0.69</td>\n",
       "      <td>0.68</td>\n",
       "      <td>0.68</td>\n",
       "      <td>0.69</td>\n",
       "      <td>0.01</td>\n",
       "    </tr>\n",
       "    <tr>\n",
       "      <th>3</th>\n",
       "      <td>BernoulliNB</td>\n",
       "      <td>0.69</td>\n",
       "      <td>0.66</td>\n",
       "      <td>0.66</td>\n",
       "      <td>0.68</td>\n",
       "      <td>0.01</td>\n",
       "    </tr>\n",
       "    <tr>\n",
       "      <th>4</th>\n",
       "      <td>SVC</td>\n",
       "      <td>0.69</td>\n",
       "      <td>0.66</td>\n",
       "      <td>0.66</td>\n",
       "      <td>0.68</td>\n",
       "      <td>0.01</td>\n",
       "    </tr>\n",
       "    <tr>\n",
       "      <th>5</th>\n",
       "      <td>LGBMClassifier</td>\n",
       "      <td>0.68</td>\n",
       "      <td>0.66</td>\n",
       "      <td>0.66</td>\n",
       "      <td>0.67</td>\n",
       "      <td>0.04</td>\n",
       "    </tr>\n",
       "    <tr>\n",
       "      <th>6</th>\n",
       "      <td>ExtraTreesClassifier</td>\n",
       "      <td>0.69</td>\n",
       "      <td>0.65</td>\n",
       "      <td>0.65</td>\n",
       "      <td>0.67</td>\n",
       "      <td>0.14</td>\n",
       "    </tr>\n",
       "    <tr>\n",
       "      <th>7</th>\n",
       "      <td>XGBClassifier</td>\n",
       "      <td>0.67</td>\n",
       "      <td>0.64</td>\n",
       "      <td>0.64</td>\n",
       "      <td>0.66</td>\n",
       "      <td>0.09</td>\n",
       "    </tr>\n",
       "    <tr>\n",
       "      <th>8</th>\n",
       "      <td>NuSVC</td>\n",
       "      <td>0.67</td>\n",
       "      <td>0.63</td>\n",
       "      <td>0.63</td>\n",
       "      <td>0.65</td>\n",
       "      <td>0.01</td>\n",
       "    </tr>\n",
       "    <tr>\n",
       "      <th>9</th>\n",
       "      <td>DecisionTreeClassifier</td>\n",
       "      <td>0.64</td>\n",
       "      <td>0.63</td>\n",
       "      <td>0.63</td>\n",
       "      <td>0.64</td>\n",
       "      <td>0.01</td>\n",
       "    </tr>\n",
       "    <tr>\n",
       "      <th>10</th>\n",
       "      <td>RandomForestClassifier</td>\n",
       "      <td>0.65</td>\n",
       "      <td>0.62</td>\n",
       "      <td>0.62</td>\n",
       "      <td>0.64</td>\n",
       "      <td>0.17</td>\n",
       "    </tr>\n",
       "    <tr>\n",
       "      <th>11</th>\n",
       "      <td>AdaBoostClassifier</td>\n",
       "      <td>0.65</td>\n",
       "      <td>0.62</td>\n",
       "      <td>0.62</td>\n",
       "      <td>0.64</td>\n",
       "      <td>0.10</td>\n",
       "    </tr>\n",
       "    <tr>\n",
       "      <th>12</th>\n",
       "      <td>LogisticRegression</td>\n",
       "      <td>0.67</td>\n",
       "      <td>0.62</td>\n",
       "      <td>0.62</td>\n",
       "      <td>0.64</td>\n",
       "      <td>0.01</td>\n",
       "    </tr>\n",
       "    <tr>\n",
       "      <th>13</th>\n",
       "      <td>LinearSVC</td>\n",
       "      <td>0.67</td>\n",
       "      <td>0.62</td>\n",
       "      <td>0.62</td>\n",
       "      <td>0.64</td>\n",
       "      <td>0.02</td>\n",
       "    </tr>\n",
       "    <tr>\n",
       "      <th>14</th>\n",
       "      <td>CalibratedClassifierCV</td>\n",
       "      <td>0.67</td>\n",
       "      <td>0.62</td>\n",
       "      <td>0.62</td>\n",
       "      <td>0.63</td>\n",
       "      <td>0.06</td>\n",
       "    </tr>\n",
       "    <tr>\n",
       "      <th>15</th>\n",
       "      <td>SGDClassifier</td>\n",
       "      <td>0.63</td>\n",
       "      <td>0.62</td>\n",
       "      <td>0.62</td>\n",
       "      <td>0.63</td>\n",
       "      <td>0.01</td>\n",
       "    </tr>\n",
       "    <tr>\n",
       "      <th>16</th>\n",
       "      <td>ExtraTreeClassifier</td>\n",
       "      <td>0.65</td>\n",
       "      <td>0.61</td>\n",
       "      <td>0.61</td>\n",
       "      <td>0.63</td>\n",
       "      <td>0.01</td>\n",
       "    </tr>\n",
       "    <tr>\n",
       "      <th>17</th>\n",
       "      <td>KNeighborsClassifier</td>\n",
       "      <td>0.67</td>\n",
       "      <td>0.61</td>\n",
       "      <td>0.61</td>\n",
       "      <td>0.62</td>\n",
       "      <td>0.02</td>\n",
       "    </tr>\n",
       "    <tr>\n",
       "      <th>18</th>\n",
       "      <td>LinearDiscriminantAnalysis</td>\n",
       "      <td>0.65</td>\n",
       "      <td>0.60</td>\n",
       "      <td>0.60</td>\n",
       "      <td>0.62</td>\n",
       "      <td>0.01</td>\n",
       "    </tr>\n",
       "    <tr>\n",
       "      <th>19</th>\n",
       "      <td>RidgeClassifier</td>\n",
       "      <td>0.65</td>\n",
       "      <td>0.60</td>\n",
       "      <td>0.60</td>\n",
       "      <td>0.62</td>\n",
       "      <td>0.02</td>\n",
       "    </tr>\n",
       "    <tr>\n",
       "      <th>20</th>\n",
       "      <td>RidgeClassifierCV</td>\n",
       "      <td>0.65</td>\n",
       "      <td>0.60</td>\n",
       "      <td>0.60</td>\n",
       "      <td>0.62</td>\n",
       "      <td>0.01</td>\n",
       "    </tr>\n",
       "    <tr>\n",
       "      <th>21</th>\n",
       "      <td>GaussianNB</td>\n",
       "      <td>0.64</td>\n",
       "      <td>0.59</td>\n",
       "      <td>0.59</td>\n",
       "      <td>0.60</td>\n",
       "      <td>0.02</td>\n",
       "    </tr>\n",
       "    <tr>\n",
       "      <th>22</th>\n",
       "      <td>DummyClassifier</td>\n",
       "      <td>0.61</td>\n",
       "      <td>0.58</td>\n",
       "      <td>0.58</td>\n",
       "      <td>0.59</td>\n",
       "      <td>0.01</td>\n",
       "    </tr>\n",
       "    <tr>\n",
       "      <th>23</th>\n",
       "      <td>LabelSpreading</td>\n",
       "      <td>0.60</td>\n",
       "      <td>0.56</td>\n",
       "      <td>0.56</td>\n",
       "      <td>0.58</td>\n",
       "      <td>0.01</td>\n",
       "    </tr>\n",
       "    <tr>\n",
       "      <th>24</th>\n",
       "      <td>LabelPropagation</td>\n",
       "      <td>0.60</td>\n",
       "      <td>0.56</td>\n",
       "      <td>0.56</td>\n",
       "      <td>0.58</td>\n",
       "      <td>0.01</td>\n",
       "    </tr>\n",
       "    <tr>\n",
       "      <th>25</th>\n",
       "      <td>QuadraticDiscriminantAnalysis</td>\n",
       "      <td>0.57</td>\n",
       "      <td>0.52</td>\n",
       "      <td>0.52</td>\n",
       "      <td>0.53</td>\n",
       "      <td>0.01</td>\n",
       "    </tr>\n",
       "    <tr>\n",
       "      <th>26</th>\n",
       "      <td>PassiveAggressiveClassifier</td>\n",
       "      <td>0.51</td>\n",
       "      <td>0.50</td>\n",
       "      <td>0.50</td>\n",
       "      <td>0.51</td>\n",
       "      <td>0.01</td>\n",
       "    </tr>\n",
       "  </tbody>\n",
       "</table>\n",
       "</div>"
      ],
      "text/plain": [
       "                            Model  Accuracy  Balanced Accuracy  ROC AUC  F1 Score  Time Taken\n",
       "0                      Perceptron      0.71               0.69     0.69      0.71        0.01\n",
       "1               BaggingClassifier      0.71               0.68     0.68      0.70        0.04\n",
       "2                 NearestCentroid      0.69               0.68     0.68      0.69        0.01\n",
       "3                     BernoulliNB      0.69               0.66     0.66      0.68        0.01\n",
       "4                             SVC      0.69               0.66     0.66      0.68        0.01\n",
       "5                  LGBMClassifier      0.68               0.66     0.66      0.67        0.04\n",
       "6            ExtraTreesClassifier      0.69               0.65     0.65      0.67        0.14\n",
       "7                   XGBClassifier      0.67               0.64     0.64      0.66        0.09\n",
       "8                           NuSVC      0.67               0.63     0.63      0.65        0.01\n",
       "9          DecisionTreeClassifier      0.64               0.63     0.63      0.64        0.01\n",
       "10         RandomForestClassifier      0.65               0.62     0.62      0.64        0.17\n",
       "11             AdaBoostClassifier      0.65               0.62     0.62      0.64        0.10\n",
       "12             LogisticRegression      0.67               0.62     0.62      0.64        0.01\n",
       "13                      LinearSVC      0.67               0.62     0.62      0.64        0.02\n",
       "14         CalibratedClassifierCV      0.67               0.62     0.62      0.63        0.06\n",
       "15                  SGDClassifier      0.63               0.62     0.62      0.63        0.01\n",
       "16            ExtraTreeClassifier      0.65               0.61     0.61      0.63        0.01\n",
       "17           KNeighborsClassifier      0.67               0.61     0.61      0.62        0.02\n",
       "18     LinearDiscriminantAnalysis      0.65               0.60     0.60      0.62        0.01\n",
       "19                RidgeClassifier      0.65               0.60     0.60      0.62        0.02\n",
       "20              RidgeClassifierCV      0.65               0.60     0.60      0.62        0.01\n",
       "21                     GaussianNB      0.64               0.59     0.59      0.60        0.02\n",
       "22                DummyClassifier      0.61               0.58     0.58      0.59        0.01\n",
       "23                 LabelSpreading      0.60               0.56     0.56      0.58        0.01\n",
       "24               LabelPropagation      0.60               0.56     0.56      0.58        0.01\n",
       "25  QuadraticDiscriminantAnalysis      0.57               0.52     0.52      0.53        0.01\n",
       "26    PassiveAggressiveClassifier      0.51               0.50     0.50      0.51        0.01"
      ]
     },
     "execution_count": 6,
     "metadata": {},
     "output_type": "execute_result"
    }
   ],
   "source": [
    "# Importing the packages that we will use\n",
    "import lazypredict\n",
    "from lazypredict.Supervised import LazyClassifier\n",
    "\n",
    "\n",
    "# Running all the models\n",
    "clf = LazyClassifier(verbose=0,ignore_warnings=True)\n",
    "models, predictions = clf.fit(X_train, X_test, y_train, y_test)\n",
    "models.reset_index(inplace=True)\n",
    "models"
   ]
  },
  {
   "cell_type": "markdown",
   "metadata": {},
   "source": [
    "## LazyPredict 결과 검증\n",
    "\n",
    "- LazyPredict는 scikit-learn을 사용하기 때문에 sklearn에서 사용하는 기존 방식대로 검증이 가능하다.\n",
    "- Random Forest 모델의 성능을 sklearn 을 통해 확인해보면 아래와 같다."
   ]
  },
  {
   "cell_type": "code",
   "execution_count": 7,
   "metadata": {
    "ExecuteTime": {
     "end_time": "2021-11-08T10:35:46.096138Z",
     "start_time": "2021-11-08T10:35:45.900619Z"
    }
   },
   "outputs": [],
   "source": [
    "from sklearn.ensemble import RandomForestClassifier\n",
    "rf = RandomForestClassifier()\n",
    "\n",
    "rf.fit(X_train, y_train)\n",
    "y_pred = rf.predict(X_test)"
   ]
  },
  {
   "cell_type": "code",
   "execution_count": 8,
   "metadata": {
    "ExecuteTime": {
     "end_time": "2021-11-08T10:35:46.112054Z",
     "start_time": "2021-11-08T10:35:46.100085Z"
    }
   },
   "outputs": [
    {
     "name": "stdout",
     "output_type": "stream",
     "text": [
      "Evaluation metrics - Random Forest:\n",
      "Accuracy: 0.6933333333333334\n",
      "F1 Score: 0.6644621668936005\n"
     ]
    }
   ],
   "source": [
    "import sklearn.metrics as metrics\n",
    "from sklearn.metrics import accuracy_score, f1_score\n",
    "\n",
    "print('Evaluation metrics - Random Forest:')\n",
    "print('Accuracy: '+ str(metrics.accuracy_score(y_test, y_pred)))\n",
    "print('F1 Score: '+ str(metrics.f1_score(y_test, y_pred, average='macro')))"
   ]
  },
  {
   "cell_type": "code",
   "execution_count": 9,
   "metadata": {
    "ExecuteTime": {
     "end_time": "2021-11-08T10:35:46.127013Z",
     "start_time": "2021-11-08T10:35:46.114048Z"
    }
   },
   "outputs": [
    {
     "data": {
      "text/html": [
       "<div>\n",
       "<style scoped>\n",
       "    .dataframe tbody tr th:only-of-type {\n",
       "        vertical-align: middle;\n",
       "    }\n",
       "\n",
       "    .dataframe tbody tr th {\n",
       "        vertical-align: top;\n",
       "    }\n",
       "\n",
       "    .dataframe thead th {\n",
       "        text-align: right;\n",
       "    }\n",
       "</style>\n",
       "<table border=\"1\" class=\"dataframe\">\n",
       "  <thead>\n",
       "    <tr style=\"text-align: right;\">\n",
       "      <th></th>\n",
       "      <th>Model</th>\n",
       "      <th>Accuracy</th>\n",
       "      <th>Balanced Accuracy</th>\n",
       "      <th>ROC AUC</th>\n",
       "      <th>F1 Score</th>\n",
       "      <th>Time Taken</th>\n",
       "    </tr>\n",
       "  </thead>\n",
       "  <tbody>\n",
       "    <tr>\n",
       "      <th>10</th>\n",
       "      <td>RandomForestClassifier</td>\n",
       "      <td>0.65</td>\n",
       "      <td>0.62</td>\n",
       "      <td>0.62</td>\n",
       "      <td>0.64</td>\n",
       "      <td>0.17</td>\n",
       "    </tr>\n",
       "  </tbody>\n",
       "</table>\n",
       "</div>"
      ],
      "text/plain": [
       "                     Model  Accuracy  Balanced Accuracy  ROC AUC  F1 Score  Time Taken\n",
       "10  RandomForestClassifier      0.65               0.62     0.62      0.64        0.17"
      ]
     },
     "execution_count": 9,
     "metadata": {},
     "output_type": "execute_result"
    }
   ],
   "source": [
    "models[models['Model'] == 'RandomForestClassifier']"
   ]
  },
  {
   "cell_type": "code",
   "execution_count": 10,
   "metadata": {
    "ExecuteTime": {
     "end_time": "2021-11-08T10:35:46.156965Z",
     "start_time": "2021-11-08T10:35:46.129008Z"
    }
   },
   "outputs": [],
   "source": [
    "from sklearn.linear_model import LogisticRegression\n",
    "\n",
    "clf = LogisticRegression()\n",
    "clf.fit(X_train, y_train)\n",
    "y_pred = clf.predict(X_test)"
   ]
  },
  {
   "cell_type": "code",
   "execution_count": 11,
   "metadata": {
    "ExecuteTime": {
     "end_time": "2021-11-08T10:35:46.172917Z",
     "start_time": "2021-11-08T10:35:46.158928Z"
    }
   },
   "outputs": [
    {
     "name": "stdout",
     "output_type": "stream",
     "text": [
      "Evaluation metrics - Random Forest:\n",
      "Accuracy: 0.6533333333333333\n",
      "F1 Score: 0.592391304347826\n"
     ]
    }
   ],
   "source": [
    "print('Evaluation metrics - Random Forest:')\n",
    "print('Accuracy: '+ str(metrics.accuracy_score(y_test, y_pred)))\n",
    "print('F1 Score: '+ str(metrics.f1_score(y_test, y_pred, average='macro')))"
   ]
  },
  {
   "cell_type": "code",
   "execution_count": 12,
   "metadata": {
    "ExecuteTime": {
     "end_time": "2021-11-08T10:35:46.188873Z",
     "start_time": "2021-11-08T10:35:46.175884Z"
    },
    "scrolled": true
   },
   "outputs": [
    {
     "data": {
      "text/html": [
       "<div>\n",
       "<style scoped>\n",
       "    .dataframe tbody tr th:only-of-type {\n",
       "        vertical-align: middle;\n",
       "    }\n",
       "\n",
       "    .dataframe tbody tr th {\n",
       "        vertical-align: top;\n",
       "    }\n",
       "\n",
       "    .dataframe thead th {\n",
       "        text-align: right;\n",
       "    }\n",
       "</style>\n",
       "<table border=\"1\" class=\"dataframe\">\n",
       "  <thead>\n",
       "    <tr style=\"text-align: right;\">\n",
       "      <th></th>\n",
       "      <th>Model</th>\n",
       "      <th>Accuracy</th>\n",
       "      <th>Balanced Accuracy</th>\n",
       "      <th>ROC AUC</th>\n",
       "      <th>F1 Score</th>\n",
       "      <th>Time Taken</th>\n",
       "    </tr>\n",
       "  </thead>\n",
       "  <tbody>\n",
       "    <tr>\n",
       "      <th>12</th>\n",
       "      <td>LogisticRegression</td>\n",
       "      <td>0.67</td>\n",
       "      <td>0.62</td>\n",
       "      <td>0.62</td>\n",
       "      <td>0.64</td>\n",
       "      <td>0.01</td>\n",
       "    </tr>\n",
       "  </tbody>\n",
       "</table>\n",
       "</div>"
      ],
      "text/plain": [
       "                 Model  Accuracy  Balanced Accuracy  ROC AUC  F1 Score  Time Taken\n",
       "12  LogisticRegression      0.67               0.62     0.62      0.64        0.01"
      ]
     },
     "execution_count": 12,
     "metadata": {},
     "output_type": "execute_result"
    }
   ],
   "source": [
    "models[models['Model']=='LogisticRegression']"
   ]
  },
  {
   "cell_type": "markdown",
   "metadata": {},
   "source": [
    "- 완벽하게 일치하지는 않지만 결과가 상당히 유사한 것을 알 수 있다."
   ]
  },
  {
   "cell_type": "markdown",
   "metadata": {},
   "source": [
    "# 예측 모델"
   ]
  },
  {
   "cell_type": "code",
   "execution_count": 13,
   "metadata": {
    "ExecuteTime": {
     "end_time": "2021-11-08T10:35:46.203808Z",
     "start_time": "2021-11-08T10:35:46.190844Z"
    }
   },
   "outputs": [],
   "source": [
    "# Importing important libraries\n",
    "import pyforest\n",
    "from lazypredict.Supervised import LazyRegressor\n",
    "from pandas.plotting import scatter_matrix\n",
    "\n",
    "\n",
    "# Scikit-learn packages\n",
    "from sklearn.linear_model import LinearRegression\n",
    "from sklearn.tree import DecisionTreeRegressor\n",
    "from sklearn.ensemble import ExtraTreesRegressor\n",
    "from sklearn import metrics\n",
    "from sklearn.metrics import mean_squared_error"
   ]
  },
  {
   "cell_type": "markdown",
   "metadata": {},
   "source": [
    "## 데이터 로드"
   ]
  },
  {
   "cell_type": "code",
   "execution_count": 14,
   "metadata": {
    "ExecuteTime": {
     "end_time": "2021-11-08T10:35:46.402278Z",
     "start_time": "2021-11-08T10:35:46.204807Z"
    }
   },
   "outputs": [
    {
     "data": {
      "text/html": [
       "<div>\n",
       "<style scoped>\n",
       "    .dataframe tbody tr th:only-of-type {\n",
       "        vertical-align: middle;\n",
       "    }\n",
       "\n",
       "    .dataframe tbody tr th {\n",
       "        vertical-align: top;\n",
       "    }\n",
       "\n",
       "    .dataframe thead th {\n",
       "        text-align: right;\n",
       "    }\n",
       "</style>\n",
       "<table border=\"1\" class=\"dataframe\">\n",
       "  <thead>\n",
       "    <tr style=\"text-align: right;\">\n",
       "      <th></th>\n",
       "      <th>video_id</th>\n",
       "      <th>trending_date</th>\n",
       "      <th>title</th>\n",
       "      <th>channel_title</th>\n",
       "      <th>category_id</th>\n",
       "      <th>publish_time</th>\n",
       "      <th>tags</th>\n",
       "      <th>views</th>\n",
       "      <th>likes</th>\n",
       "      <th>dislikes</th>\n",
       "      <th>comment_count</th>\n",
       "      <th>thumbnail_link</th>\n",
       "      <th>comments_disabled</th>\n",
       "      <th>ratings_disabled</th>\n",
       "      <th>video_error_or_removed</th>\n",
       "      <th>description</th>\n",
       "      <th>r_avg</th>\n",
       "      <th>g_avg</th>\n",
       "      <th>b_avg</th>\n",
       "      <th>publish_time2</th>\n",
       "      <th>publish_date</th>\n",
       "      <th>elapsed_day</th>\n",
       "      <th>total_number_of_sign</th>\n",
       "      <th>number_of_tag</th>\n",
       "      <th>positive_ratio</th>\n",
       "      <th>sign_per_day</th>\n",
       "      <th>positive_ratio_per_day</th>\n",
       "      <th>comment_per_day</th>\n",
       "      <th>total_sign_comment_ratio</th>\n",
       "      <th>description_length</th>\n",
       "      <th>title_length</th>\n",
       "      <th>channel_title_mean_enc</th>\n",
       "      <th>category_id_mean_enc</th>\n",
       "    </tr>\n",
       "  </thead>\n",
       "  <tbody>\n",
       "    <tr>\n",
       "      <th>0</th>\n",
       "      <td>RxGQe4EeEpA</td>\n",
       "      <td>2017-11-14</td>\n",
       "      <td>좋아 by 민서_윤종신_좋니 답가</td>\n",
       "      <td>라푸마코리아</td>\n",
       "      <td>22</td>\n",
       "      <td>2017-11-13T07:07:36.000Z</td>\n",
       "      <td>라푸마|\"윤종신\"|\"좋니\"|\"좋아\"|\"샬레\"|\"민서\"</td>\n",
       "      <td>156130</td>\n",
       "      <td>1422</td>\n",
       "      <td>40</td>\n",
       "      <td>272</td>\n",
       "      <td>https://i.ytimg.com/vi/RxGQe4EeEpA/default.jpg</td>\n",
       "      <td>False</td>\n",
       "      <td>False</td>\n",
       "      <td>False</td>\n",
       "      <td>윤종신 '좋니'의 답가 '좋아' 최초 공개!\\n그 여자의 이야기를 지금 만나보세요....</td>\n",
       "      <td>56</td>\n",
       "      <td>41</td>\n",
       "      <td>31</td>\n",
       "      <td>2017-11-13</td>\n",
       "      <td>2017-11-13</td>\n",
       "      <td>2</td>\n",
       "      <td>1462</td>\n",
       "      <td>6</td>\n",
       "      <td>35.55</td>\n",
       "      <td>731.00</td>\n",
       "      <td>17.77</td>\n",
       "      <td>136.00</td>\n",
       "      <td>5.38</td>\n",
       "      <td>152</td>\n",
       "      <td>18</td>\n",
       "      <td>125208.00</td>\n",
       "      <td>148184.15</td>\n",
       "    </tr>\n",
       "    <tr>\n",
       "      <th>1</th>\n",
       "      <td>9V8bnWUmE9U</td>\n",
       "      <td>2017-11-14</td>\n",
       "      <td>나몰라패밀리 운동화 영상 2탄 (빼빼로데이버젼)</td>\n",
       "      <td>나몰라패밀리 핫쇼</td>\n",
       "      <td>22</td>\n",
       "      <td>2017-11-11T07:16:08.000Z</td>\n",
       "      <td>아디다스|\"빼빼로\"|\"핫쇼\"|\"나몰라패밀리\"|\"대학로\"|\"공연\"</td>\n",
       "      <td>421409</td>\n",
       "      <td>5112</td>\n",
       "      <td>166</td>\n",
       "      <td>459</td>\n",
       "      <td>https://i.ytimg.com/vi/9V8bnWUmE9U/default.jpg</td>\n",
       "      <td>False</td>\n",
       "      <td>False</td>\n",
       "      <td>False</td>\n",
       "      <td>퍼가실때 꼭 출처 부탁드려요</td>\n",
       "      <td>105</td>\n",
       "      <td>84</td>\n",
       "      <td>86</td>\n",
       "      <td>2017-11-11</td>\n",
       "      <td>2017-11-11</td>\n",
       "      <td>4</td>\n",
       "      <td>5278</td>\n",
       "      <td>6</td>\n",
       "      <td>30.80</td>\n",
       "      <td>1319.50</td>\n",
       "      <td>7.70</td>\n",
       "      <td>114.75</td>\n",
       "      <td>11.50</td>\n",
       "      <td>15</td>\n",
       "      <td>26</td>\n",
       "      <td>421409.00</td>\n",
       "      <td>148184.15</td>\n",
       "    </tr>\n",
       "    <tr>\n",
       "      <th>2</th>\n",
       "      <td>0_8py-t5R80</td>\n",
       "      <td>2017-11-14</td>\n",
       "      <td>이명박 출국 현장, 놓치면 안되는 장면</td>\n",
       "      <td>미디어몽구</td>\n",
       "      <td>25</td>\n",
       "      <td>2017-11-12T11:19:52.000Z</td>\n",
       "      <td>이명박|\"이명박 출국금지\"|\"이명박 출국현장\"|\"이명박 바레인\"|\"이명박 대통령\"|...</td>\n",
       "      <td>222850</td>\n",
       "      <td>2093</td>\n",
       "      <td>173</td>\n",
       "      <td>1219</td>\n",
       "      <td>https://i.ytimg.com/vi/0_8py-t5R80/default.jpg</td>\n",
       "      <td>False</td>\n",
       "      <td>False</td>\n",
       "      <td>False</td>\n",
       "      <td>다스는 누구겁니까 듣고 난 후 표정</td>\n",
       "      <td>89</td>\n",
       "      <td>86</td>\n",
       "      <td>86</td>\n",
       "      <td>2017-11-12</td>\n",
       "      <td>2017-11-12</td>\n",
       "      <td>3</td>\n",
       "      <td>2266</td>\n",
       "      <td>9</td>\n",
       "      <td>12.10</td>\n",
       "      <td>755.33</td>\n",
       "      <td>4.03</td>\n",
       "      <td>406.33</td>\n",
       "      <td>1.86</td>\n",
       "      <td>19</td>\n",
       "      <td>26</td>\n",
       "      <td>258691.29</td>\n",
       "      <td>132860.43</td>\n",
       "    </tr>\n",
       "    <tr>\n",
       "      <th>3</th>\n",
       "      <td>bk55RbxiQdI</td>\n",
       "      <td>2017-11-14</td>\n",
       "      <td>김장겸은 물러갔다 MBC 노조 환호와 눈물</td>\n",
       "      <td>NocutV</td>\n",
       "      <td>25</td>\n",
       "      <td>2017-11-13T11:08:59.000Z</td>\n",
       "      <td>nocutV|\"노컷V\"|\"CBS\"|\"mbc\"|\"김장겸\"|\"해임\"|\"허일후\"</td>\n",
       "      <td>84466</td>\n",
       "      <td>1094</td>\n",
       "      <td>109</td>\n",
       "      <td>450</td>\n",
       "      <td>https://i.ytimg.com/vi/bk55RbxiQdI/default.jpg</td>\n",
       "      <td>False</td>\n",
       "      <td>False</td>\n",
       "      <td>False</td>\n",
       "      <td>김장겸 MBC 사장이 결국 해임됐다.\\n\\nMBC 대주주인 방송문화진흥회는 13일 ...</td>\n",
       "      <td>81</td>\n",
       "      <td>77</td>\n",
       "      <td>61</td>\n",
       "      <td>2017-11-13</td>\n",
       "      <td>2017-11-13</td>\n",
       "      <td>2</td>\n",
       "      <td>1203</td>\n",
       "      <td>7</td>\n",
       "      <td>10.04</td>\n",
       "      <td>601.50</td>\n",
       "      <td>5.02</td>\n",
       "      <td>225.00</td>\n",
       "      <td>2.67</td>\n",
       "      <td>389</td>\n",
       "      <td>23</td>\n",
       "      <td>184936.65</td>\n",
       "      <td>132860.43</td>\n",
       "    </tr>\n",
       "    <tr>\n",
       "      <th>4</th>\n",
       "      <td>AmP0ryzDmbY</td>\n",
       "      <td>2017-11-14</td>\n",
       "      <td>김정숙 여사는 왜 갑자기 문재인 대통령 주머니에 손을 넣었나? 인도네시아 대통령도 깜놀</td>\n",
       "      <td>하우스</td>\n",
       "      <td>25</td>\n",
       "      <td>2017-11-12T10:17:48.000Z</td>\n",
       "      <td>김정숙|\"김정숙 여사\"|\"김정숙 문재인\"|\"문재인 대통령\"|\"문재인\"|\"문재인 인도...</td>\n",
       "      <td>188707</td>\n",
       "      <td>545</td>\n",
       "      <td>311</td>\n",
       "      <td>357</td>\n",
       "      <td>https://i.ytimg.com/vi/AmP0ryzDmbY/default.jpg</td>\n",
       "      <td>False</td>\n",
       "      <td>False</td>\n",
       "      <td>False</td>\n",
       "      <td>김정숙 여사는 왜 갑자기 문재인 대통령 주머니에 손을 넣었나? 인도네시아 대통령도 ...</td>\n",
       "      <td>117</td>\n",
       "      <td>103</td>\n",
       "      <td>100</td>\n",
       "      <td>2017-11-12</td>\n",
       "      <td>2017-11-12</td>\n",
       "      <td>3</td>\n",
       "      <td>856</td>\n",
       "      <td>6</td>\n",
       "      <td>1.75</td>\n",
       "      <td>285.33</td>\n",
       "      <td>0.58</td>\n",
       "      <td>119.00</td>\n",
       "      <td>2.40</td>\n",
       "      <td>289</td>\n",
       "      <td>48</td>\n",
       "      <td>178386.07</td>\n",
       "      <td>132860.43</td>\n",
       "    </tr>\n",
       "  </tbody>\n",
       "</table>\n",
       "</div>"
      ],
      "text/plain": [
       "      video_id trending_date                                             title channel_title  category_id              publish_time                                               tags   views  likes  dislikes  comment_count                                  thumbnail_link  comments_disabled  ratings_disabled  video_error_or_removed                                        description  r_avg  g_avg  b_avg publish_time2 publish_date  elapsed_day  total_number_of_sign  number_of_tag  positive_ratio  sign_per_day  positive_ratio_per_day  comment_per_day  total_sign_comment_ratio  description_length  title_length  channel_title_mean_enc  category_id_mean_enc\n",
       "0  RxGQe4EeEpA    2017-11-14                                좋아 by 민서_윤종신_좋니 답가        라푸마코리아           22  2017-11-13T07:07:36.000Z                      라푸마|\"윤종신\"|\"좋니\"|\"좋아\"|\"샬레\"|\"민서\"  156130   1422        40            272  https://i.ytimg.com/vi/RxGQe4EeEpA/default.jpg              False             False                   False  윤종신 '좋니'의 답가 '좋아' 최초 공개!\\n그 여자의 이야기를 지금 만나보세요....     56     41     31    2017-11-13   2017-11-13            2                  1462              6           35.55        731.00                   17.77           136.00                      5.38                 152            18               125208.00             148184.15\n",
       "1  9V8bnWUmE9U    2017-11-14                        나몰라패밀리 운동화 영상 2탄 (빼빼로데이버젼)     나몰라패밀리 핫쇼           22  2017-11-11T07:16:08.000Z                아디다스|\"빼빼로\"|\"핫쇼\"|\"나몰라패밀리\"|\"대학로\"|\"공연\"  421409   5112       166            459  https://i.ytimg.com/vi/9V8bnWUmE9U/default.jpg              False             False                   False                                    퍼가실때 꼭 출처 부탁드려요    105     84     86    2017-11-11   2017-11-11            4                  5278              6           30.80       1319.50                    7.70           114.75                     11.50                  15            26               421409.00             148184.15\n",
       "2  0_8py-t5R80    2017-11-14                        이명박 출국 현장, 놓치면 안되는 장면         미디어몽구           25  2017-11-12T11:19:52.000Z  이명박|\"이명박 출국금지\"|\"이명박 출국현장\"|\"이명박 바레인\"|\"이명박 대통령\"|...  222850   2093       173           1219  https://i.ytimg.com/vi/0_8py-t5R80/default.jpg              False             False                   False                                다스는 누구겁니까 듣고 난 후 표정     89     86     86    2017-11-12   2017-11-12            3                  2266              9           12.10        755.33                    4.03           406.33                      1.86                  19            26               258691.29             132860.43\n",
       "3  bk55RbxiQdI    2017-11-14                           김장겸은 물러갔다 MBC 노조 환호와 눈물        NocutV           25  2017-11-13T11:08:59.000Z          nocutV|\"노컷V\"|\"CBS\"|\"mbc\"|\"김장겸\"|\"해임\"|\"허일후\"   84466   1094       109            450  https://i.ytimg.com/vi/bk55RbxiQdI/default.jpg              False             False                   False  김장겸 MBC 사장이 결국 해임됐다.\\n\\nMBC 대주주인 방송문화진흥회는 13일 ...     81     77     61    2017-11-13   2017-11-13            2                  1203              7           10.04        601.50                    5.02           225.00                      2.67                 389            23               184936.65             132860.43\n",
       "4  AmP0ryzDmbY    2017-11-14  김정숙 여사는 왜 갑자기 문재인 대통령 주머니에 손을 넣었나? 인도네시아 대통령도 깜놀           하우스           25  2017-11-12T10:17:48.000Z  김정숙|\"김정숙 여사\"|\"김정숙 문재인\"|\"문재인 대통령\"|\"문재인\"|\"문재인 인도...  188707    545       311            357  https://i.ytimg.com/vi/AmP0ryzDmbY/default.jpg              False             False                   False  김정숙 여사는 왜 갑자기 문재인 대통령 주머니에 손을 넣었나? 인도네시아 대통령도 ...    117    103    100    2017-11-12   2017-11-12            3                   856              6            1.75        285.33                    0.58           119.00                      2.40                 289            48               178386.07             132860.43"
      ]
     },
     "execution_count": 14,
     "metadata": {},
     "output_type": "execute_result"
    }
   ],
   "source": [
    "df = pd.read_csv('./data/Youtube_data.csv')\n",
    "df.head()"
   ]
  },
  {
   "cell_type": "markdown",
   "metadata": {},
   "source": [
    "## Train / Test split"
   ]
  },
  {
   "cell_type": "code",
   "execution_count": 15,
   "metadata": {
    "ExecuteTime": {
     "end_time": "2021-11-08T10:35:46.417239Z",
     "start_time": "2021-11-08T10:35:46.404272Z"
    }
   },
   "outputs": [],
   "source": [
    "features = ['likes', 'dislikes', 'comment_count', 'elapsed_day', 'number_of_tag',\n",
    "            'positive_ratio', 'description_length', 'title_length',\n",
    "            'r_avg', 'g_avg', 'b_avg',  \n",
    "            'channel_title_mean_enc', 'category_id_mean_enc']            \n",
    "\n",
    "X = df[features]\n",
    "\n",
    "# target value설정\n",
    "y = df['views']\n",
    "\n",
    "# train & test split\n",
    "x_train, x_test, y_train, y_test = train_test_split(X, y, random_state=42)"
   ]
  },
  {
   "cell_type": "code",
   "execution_count": 16,
   "metadata": {
    "ExecuteTime": {
     "end_time": "2021-11-08T10:35:46.433195Z",
     "start_time": "2021-11-08T10:35:46.419232Z"
    }
   },
   "outputs": [
    {
     "data": {
      "application/javascript": [
       "\n",
       "        if (window._pyforest_update_imports_cell) { window._pyforest_update_imports_cell('from sklearn.preprocessing import MinMaxScaler'); }\n",
       "    "
      ],
      "text/plain": [
       "<IPython.core.display.Javascript object>"
      ]
     },
     "metadata": {},
     "output_type": "display_data"
    }
   ],
   "source": [
    "# train_set에 대해서 MinMax 스케일링\n",
    "\n",
    "scaler = MinMaxScaler()\n",
    "x_train_scaled = scaler.fit_transform(x_train)\n",
    "x_test_scaled = scaler.transform(x_test)"
   ]
  },
  {
   "cell_type": "markdown",
   "metadata": {},
   "source": [
    "## LazyPredict로 예측모델 성능 예측"
   ]
  },
  {
   "cell_type": "code",
   "execution_count": 17,
   "metadata": {
    "ExecuteTime": {
     "end_time": "2021-11-08T10:36:10.877561Z",
     "start_time": "2021-11-08T10:35:46.435190Z"
    }
   },
   "outputs": [
    {
     "name": "stderr",
     "output_type": "stream",
     "text": [
      "100%|██████████████████████████████████████████████████████████████████████████████████| 42/42 [00:24<00:00,  1.72it/s]\n"
     ]
    },
    {
     "data": {
      "text/html": [
       "<div>\n",
       "<style scoped>\n",
       "    .dataframe tbody tr th:only-of-type {\n",
       "        vertical-align: middle;\n",
       "    }\n",
       "\n",
       "    .dataframe tbody tr th {\n",
       "        vertical-align: top;\n",
       "    }\n",
       "\n",
       "    .dataframe thead th {\n",
       "        text-align: right;\n",
       "    }\n",
       "</style>\n",
       "<table border=\"1\" class=\"dataframe\">\n",
       "  <thead>\n",
       "    <tr style=\"text-align: right;\">\n",
       "      <th></th>\n",
       "      <th>Model</th>\n",
       "      <th>Adjusted R-Squared</th>\n",
       "      <th>R-Squared</th>\n",
       "      <th>RMSE</th>\n",
       "      <th>Time Taken</th>\n",
       "    </tr>\n",
       "  </thead>\n",
       "  <tbody>\n",
       "    <tr>\n",
       "      <th>0</th>\n",
       "      <td>GradientBoostingRegressor</td>\n",
       "      <td>0.92</td>\n",
       "      <td>0.92</td>\n",
       "      <td>537708.62</td>\n",
       "      <td>1.23</td>\n",
       "    </tr>\n",
       "    <tr>\n",
       "      <th>1</th>\n",
       "      <td>BaggingRegressor</td>\n",
       "      <td>0.90</td>\n",
       "      <td>0.90</td>\n",
       "      <td>593782.82</td>\n",
       "      <td>0.44</td>\n",
       "    </tr>\n",
       "    <tr>\n",
       "      <th>2</th>\n",
       "      <td>ExtraTreesRegressor</td>\n",
       "      <td>0.89</td>\n",
       "      <td>0.89</td>\n",
       "      <td>616691.45</td>\n",
       "      <td>2.09</td>\n",
       "    </tr>\n",
       "    <tr>\n",
       "      <th>3</th>\n",
       "      <td>XGBRegressor</td>\n",
       "      <td>0.87</td>\n",
       "      <td>0.87</td>\n",
       "      <td>682090.03</td>\n",
       "      <td>0.28</td>\n",
       "    </tr>\n",
       "    <tr>\n",
       "      <th>4</th>\n",
       "      <td>DecisionTreeRegressor</td>\n",
       "      <td>0.86</td>\n",
       "      <td>0.86</td>\n",
       "      <td>692122.77</td>\n",
       "      <td>0.08</td>\n",
       "    </tr>\n",
       "    <tr>\n",
       "      <th>5</th>\n",
       "      <td>RandomForestRegressor</td>\n",
       "      <td>0.86</td>\n",
       "      <td>0.86</td>\n",
       "      <td>698702.22</td>\n",
       "      <td>4.32</td>\n",
       "    </tr>\n",
       "    <tr>\n",
       "      <th>6</th>\n",
       "      <td>HistGradientBoostingRegressor</td>\n",
       "      <td>0.72</td>\n",
       "      <td>0.72</td>\n",
       "      <td>992189.57</td>\n",
       "      <td>0.83</td>\n",
       "    </tr>\n",
       "    <tr>\n",
       "      <th>7</th>\n",
       "      <td>KNeighborsRegressor</td>\n",
       "      <td>0.69</td>\n",
       "      <td>0.69</td>\n",
       "      <td>1039114.47</td>\n",
       "      <td>0.25</td>\n",
       "    </tr>\n",
       "    <tr>\n",
       "      <th>8</th>\n",
       "      <td>ExtraTreeRegressor</td>\n",
       "      <td>0.67</td>\n",
       "      <td>0.67</td>\n",
       "      <td>1071859.85</td>\n",
       "      <td>0.03</td>\n",
       "    </tr>\n",
       "    <tr>\n",
       "      <th>9</th>\n",
       "      <td>OrthogonalMatchingPursuit</td>\n",
       "      <td>0.66</td>\n",
       "      <td>0.67</td>\n",
       "      <td>1082859.83</td>\n",
       "      <td>0.01</td>\n",
       "    </tr>\n",
       "    <tr>\n",
       "      <th>10</th>\n",
       "      <td>LGBMRegressor</td>\n",
       "      <td>0.64</td>\n",
       "      <td>0.64</td>\n",
       "      <td>1123175.39</td>\n",
       "      <td>0.18</td>\n",
       "    </tr>\n",
       "    <tr>\n",
       "      <th>11</th>\n",
       "      <td>GaussianProcessRegressor</td>\n",
       "      <td>0.04</td>\n",
       "      <td>0.04</td>\n",
       "      <td>1834266.76</td>\n",
       "      <td>2.87</td>\n",
       "    </tr>\n",
       "    <tr>\n",
       "      <th>12</th>\n",
       "      <td>GeneralizedLinearRegressor</td>\n",
       "      <td>0.02</td>\n",
       "      <td>0.03</td>\n",
       "      <td>1848656.84</td>\n",
       "      <td>0.02</td>\n",
       "    </tr>\n",
       "    <tr>\n",
       "      <th>13</th>\n",
       "      <td>TweedieRegressor</td>\n",
       "      <td>0.02</td>\n",
       "      <td>0.03</td>\n",
       "      <td>1848656.84</td>\n",
       "      <td>0.02</td>\n",
       "    </tr>\n",
       "    <tr>\n",
       "      <th>14</th>\n",
       "      <td>PassiveAggressiveRegressor</td>\n",
       "      <td>0.00</td>\n",
       "      <td>0.01</td>\n",
       "      <td>1863360.36</td>\n",
       "      <td>0.48</td>\n",
       "    </tr>\n",
       "    <tr>\n",
       "      <th>15</th>\n",
       "      <td>ElasticNetCV</td>\n",
       "      <td>0.00</td>\n",
       "      <td>0.01</td>\n",
       "      <td>1867419.46</td>\n",
       "      <td>0.10</td>\n",
       "    </tr>\n",
       "    <tr>\n",
       "      <th>16</th>\n",
       "      <td>DummyRegressor</td>\n",
       "      <td>-0.01</td>\n",
       "      <td>-0.00</td>\n",
       "      <td>1875035.83</td>\n",
       "      <td>0.01</td>\n",
       "    </tr>\n",
       "    <tr>\n",
       "      <th>17</th>\n",
       "      <td>NuSVR</td>\n",
       "      <td>-0.03</td>\n",
       "      <td>-0.02</td>\n",
       "      <td>1891244.86</td>\n",
       "      <td>0.99</td>\n",
       "    </tr>\n",
       "    <tr>\n",
       "      <th>18</th>\n",
       "      <td>SVR</td>\n",
       "      <td>-0.03</td>\n",
       "      <td>-0.02</td>\n",
       "      <td>1896626.90</td>\n",
       "      <td>1.38</td>\n",
       "    </tr>\n",
       "    <tr>\n",
       "      <th>19</th>\n",
       "      <td>MLPRegressor</td>\n",
       "      <td>-0.04</td>\n",
       "      <td>-0.03</td>\n",
       "      <td>1904258.16</td>\n",
       "      <td>6.49</td>\n",
       "    </tr>\n",
       "    <tr>\n",
       "      <th>20</th>\n",
       "      <td>LinearSVR</td>\n",
       "      <td>-0.05</td>\n",
       "      <td>-0.04</td>\n",
       "      <td>1913464.49</td>\n",
       "      <td>0.01</td>\n",
       "    </tr>\n",
       "    <tr>\n",
       "      <th>21</th>\n",
       "      <td>AdaBoostRegressor</td>\n",
       "      <td>-0.09</td>\n",
       "      <td>-0.08</td>\n",
       "      <td>1948405.60</td>\n",
       "      <td>0.41</td>\n",
       "    </tr>\n",
       "    <tr>\n",
       "      <th>22</th>\n",
       "      <td>ElasticNet</td>\n",
       "      <td>-0.61</td>\n",
       "      <td>-0.60</td>\n",
       "      <td>2371537.92</td>\n",
       "      <td>0.02</td>\n",
       "    </tr>\n",
       "    <tr>\n",
       "      <th>23</th>\n",
       "      <td>HuberRegressor</td>\n",
       "      <td>-1.13</td>\n",
       "      <td>-1.11</td>\n",
       "      <td>2722627.48</td>\n",
       "      <td>0.10</td>\n",
       "    </tr>\n",
       "    <tr>\n",
       "      <th>24</th>\n",
       "      <td>SGDRegressor</td>\n",
       "      <td>-2.03</td>\n",
       "      <td>-2.01</td>\n",
       "      <td>3252852.66</td>\n",
       "      <td>0.02</td>\n",
       "    </tr>\n",
       "    <tr>\n",
       "      <th>25</th>\n",
       "      <td>LassoLarsIC</td>\n",
       "      <td>-2.61</td>\n",
       "      <td>-2.58</td>\n",
       "      <td>3546338.81</td>\n",
       "      <td>0.02</td>\n",
       "    </tr>\n",
       "    <tr>\n",
       "      <th>26</th>\n",
       "      <td>LassoLarsCV</td>\n",
       "      <td>-2.68</td>\n",
       "      <td>-2.65</td>\n",
       "      <td>3581088.04</td>\n",
       "      <td>0.04</td>\n",
       "    </tr>\n",
       "    <tr>\n",
       "      <th>27</th>\n",
       "      <td>LarsCV</td>\n",
       "      <td>-2.68</td>\n",
       "      <td>-2.65</td>\n",
       "      <td>3581088.04</td>\n",
       "      <td>0.04</td>\n",
       "    </tr>\n",
       "    <tr>\n",
       "      <th>28</th>\n",
       "      <td>LassoCV</td>\n",
       "      <td>-2.68</td>\n",
       "      <td>-2.65</td>\n",
       "      <td>3582111.41</td>\n",
       "      <td>0.10</td>\n",
       "    </tr>\n",
       "    <tr>\n",
       "      <th>29</th>\n",
       "      <td>RidgeCV</td>\n",
       "      <td>-2.68</td>\n",
       "      <td>-2.65</td>\n",
       "      <td>3582316.61</td>\n",
       "      <td>0.02</td>\n",
       "    </tr>\n",
       "    <tr>\n",
       "      <th>30</th>\n",
       "      <td>BayesianRidge</td>\n",
       "      <td>-2.69</td>\n",
       "      <td>-2.66</td>\n",
       "      <td>3585630.62</td>\n",
       "      <td>0.02</td>\n",
       "    </tr>\n",
       "    <tr>\n",
       "      <th>31</th>\n",
       "      <td>Ridge</td>\n",
       "      <td>-2.70</td>\n",
       "      <td>-2.67</td>\n",
       "      <td>3590600.15</td>\n",
       "      <td>0.01</td>\n",
       "    </tr>\n",
       "    <tr>\n",
       "      <th>32</th>\n",
       "      <td>LassoLars</td>\n",
       "      <td>-2.70</td>\n",
       "      <td>-2.67</td>\n",
       "      <td>3591278.23</td>\n",
       "      <td>0.02</td>\n",
       "    </tr>\n",
       "    <tr>\n",
       "      <th>33</th>\n",
       "      <td>Lasso</td>\n",
       "      <td>-2.70</td>\n",
       "      <td>-2.67</td>\n",
       "      <td>3591520.43</td>\n",
       "      <td>0.02</td>\n",
       "    </tr>\n",
       "    <tr>\n",
       "      <th>34</th>\n",
       "      <td>Lars</td>\n",
       "      <td>-2.70</td>\n",
       "      <td>-2.67</td>\n",
       "      <td>3591523.61</td>\n",
       "      <td>0.01</td>\n",
       "    </tr>\n",
       "    <tr>\n",
       "      <th>35</th>\n",
       "      <td>TransformedTargetRegressor</td>\n",
       "      <td>-2.70</td>\n",
       "      <td>-2.67</td>\n",
       "      <td>3591523.61</td>\n",
       "      <td>0.01</td>\n",
       "    </tr>\n",
       "    <tr>\n",
       "      <th>36</th>\n",
       "      <td>LinearRegression</td>\n",
       "      <td>-2.70</td>\n",
       "      <td>-2.67</td>\n",
       "      <td>3591523.61</td>\n",
       "      <td>0.01</td>\n",
       "    </tr>\n",
       "    <tr>\n",
       "      <th>37</th>\n",
       "      <td>KernelRidge</td>\n",
       "      <td>-2.72</td>\n",
       "      <td>-2.69</td>\n",
       "      <td>3600828.79</td>\n",
       "      <td>1.17</td>\n",
       "    </tr>\n",
       "    <tr>\n",
       "      <th>38</th>\n",
       "      <td>OrthogonalMatchingPursuitCV</td>\n",
       "      <td>-2.81</td>\n",
       "      <td>-2.78</td>\n",
       "      <td>3645633.05</td>\n",
       "      <td>0.03</td>\n",
       "    </tr>\n",
       "    <tr>\n",
       "      <th>39</th>\n",
       "      <td>RANSACRegressor</td>\n",
       "      <td>-6.12</td>\n",
       "      <td>-6.06</td>\n",
       "      <td>4982584.04</td>\n",
       "      <td>0.11</td>\n",
       "    </tr>\n",
       "    <tr>\n",
       "      <th>40</th>\n",
       "      <td>PoissonRegressor</td>\n",
       "      <td>-53093873181748967243776.00</td>\n",
       "      <td>-52674031118876258861056.00</td>\n",
       "      <td>430304691752291776.00</td>\n",
       "      <td>0.08</td>\n",
       "    </tr>\n",
       "    <tr>\n",
       "      <th>41</th>\n",
       "      <td>GammaRegressor</td>\n",
       "      <td>-11278934841119091775439909158912.00</td>\n",
       "      <td>-11189746183616326252329533702144.00</td>\n",
       "      <td>6271738196705895514112.00</td>\n",
       "      <td>0.02</td>\n",
       "    </tr>\n",
       "  </tbody>\n",
       "</table>\n",
       "</div>"
      ],
      "text/plain": [
       "                            Model                   Adjusted R-Squared                            R-Squared                      RMSE  Time Taken\n",
       "0       GradientBoostingRegressor                                 0.92                                 0.92                 537708.62        1.23\n",
       "1                BaggingRegressor                                 0.90                                 0.90                 593782.82        0.44\n",
       "2             ExtraTreesRegressor                                 0.89                                 0.89                 616691.45        2.09\n",
       "3                    XGBRegressor                                 0.87                                 0.87                 682090.03        0.28\n",
       "4           DecisionTreeRegressor                                 0.86                                 0.86                 692122.77        0.08\n",
       "5           RandomForestRegressor                                 0.86                                 0.86                 698702.22        4.32\n",
       "6   HistGradientBoostingRegressor                                 0.72                                 0.72                 992189.57        0.83\n",
       "7             KNeighborsRegressor                                 0.69                                 0.69                1039114.47        0.25\n",
       "8              ExtraTreeRegressor                                 0.67                                 0.67                1071859.85        0.03\n",
       "9       OrthogonalMatchingPursuit                                 0.66                                 0.67                1082859.83        0.01\n",
       "10                  LGBMRegressor                                 0.64                                 0.64                1123175.39        0.18\n",
       "11       GaussianProcessRegressor                                 0.04                                 0.04                1834266.76        2.87\n",
       "12     GeneralizedLinearRegressor                                 0.02                                 0.03                1848656.84        0.02\n",
       "13               TweedieRegressor                                 0.02                                 0.03                1848656.84        0.02\n",
       "14     PassiveAggressiveRegressor                                 0.00                                 0.01                1863360.36        0.48\n",
       "15                   ElasticNetCV                                 0.00                                 0.01                1867419.46        0.10\n",
       "16                 DummyRegressor                                -0.01                                -0.00                1875035.83        0.01\n",
       "17                          NuSVR                                -0.03                                -0.02                1891244.86        0.99\n",
       "18                            SVR                                -0.03                                -0.02                1896626.90        1.38\n",
       "19                   MLPRegressor                                -0.04                                -0.03                1904258.16        6.49\n",
       "20                      LinearSVR                                -0.05                                -0.04                1913464.49        0.01\n",
       "21              AdaBoostRegressor                                -0.09                                -0.08                1948405.60        0.41\n",
       "22                     ElasticNet                                -0.61                                -0.60                2371537.92        0.02\n",
       "23                 HuberRegressor                                -1.13                                -1.11                2722627.48        0.10\n",
       "24                   SGDRegressor                                -2.03                                -2.01                3252852.66        0.02\n",
       "25                    LassoLarsIC                                -2.61                                -2.58                3546338.81        0.02\n",
       "26                    LassoLarsCV                                -2.68                                -2.65                3581088.04        0.04\n",
       "27                         LarsCV                                -2.68                                -2.65                3581088.04        0.04\n",
       "28                        LassoCV                                -2.68                                -2.65                3582111.41        0.10\n",
       "29                        RidgeCV                                -2.68                                -2.65                3582316.61        0.02\n",
       "30                  BayesianRidge                                -2.69                                -2.66                3585630.62        0.02\n",
       "31                          Ridge                                -2.70                                -2.67                3590600.15        0.01\n",
       "32                      LassoLars                                -2.70                                -2.67                3591278.23        0.02\n",
       "33                          Lasso                                -2.70                                -2.67                3591520.43        0.02\n",
       "34                           Lars                                -2.70                                -2.67                3591523.61        0.01\n",
       "35     TransformedTargetRegressor                                -2.70                                -2.67                3591523.61        0.01\n",
       "36               LinearRegression                                -2.70                                -2.67                3591523.61        0.01\n",
       "37                    KernelRidge                                -2.72                                -2.69                3600828.79        1.17\n",
       "38    OrthogonalMatchingPursuitCV                                -2.81                                -2.78                3645633.05        0.03\n",
       "39                RANSACRegressor                                -6.12                                -6.06                4982584.04        0.11\n",
       "40               PoissonRegressor          -53093873181748967243776.00          -52674031118876258861056.00     430304691752291776.00        0.08\n",
       "41                 GammaRegressor -11278934841119091775439909158912.00 -11189746183616326252329533702144.00 6271738196705895514112.00        0.02"
      ]
     },
     "execution_count": 17,
     "metadata": {},
     "output_type": "execute_result"
    }
   ],
   "source": [
    "reg = LazyRegressor(ignore_warnings=False, custom_metric=None)\n",
    "models, predictions = reg.fit(x_train_scaled, x_test_scaled, y_train, y_test)\n",
    "models.reset_index(inplace=True)\n",
    "models"
   ]
  },
  {
   "cell_type": "markdown",
   "metadata": {},
   "source": [
    "## LazyPredict 결과 검증"
   ]
  },
  {
   "cell_type": "code",
   "execution_count": 18,
   "metadata": {
    "ExecuteTime": {
     "end_time": "2021-11-08T10:36:10.892521Z",
     "start_time": "2021-11-08T10:36:10.879557Z"
    }
   },
   "outputs": [],
   "source": [
    "# Explicitly require this experimental feature\n",
    "from sklearn.experimental import enable_hist_gradient_boosting\n",
    "\n",
    "# Now you can import normally from ensemble\n",
    "from sklearn.ensemble import HistGradientBoostingRegressor"
   ]
  },
  {
   "cell_type": "code",
   "execution_count": 19,
   "metadata": {
    "ExecuteTime": {
     "end_time": "2021-11-08T10:36:10.924437Z",
     "start_time": "2021-11-08T10:36:10.897508Z"
    }
   },
   "outputs": [],
   "source": [
    "# Evaluation Functions\n",
    "def rmse(model, y_test, y_pred, x_train_scaled, y_train):\n",
    " r_squared = model.score(x_test_scaled, y_test)\n",
    " mse = mean_squared_error(y_test, y_pred)\n",
    " rmse = np.sqrt(mse)\n",
    " print('R-squared: ' + str(r_squared))\n",
    " print('Root Mean Squared Error: '+ str(rmse))\n",
    "\n",
    "# Create model line scatter plot\n",
    "def scatter_plot(y_test, y_pred, model_name):\n",
    "    plt.figure(figsize=(10,6))\n",
    "    sns.residplot(y_test, y_pred, lowess=True, color='#4682b4',\n",
    "              line_kws={'lw': 2, 'color': 'r'})\n",
    "    plt.title(str('Price vs Residuals for '+ model_name))\n",
    "    plt.xlabel('Price',fontsize=16)\n",
    "    plt.xticks(fontsize=13)\n",
    "    plt.yticks(fontsize=13)\n",
    "    plt.show()"
   ]
  },
  {
   "cell_type": "code",
   "execution_count": 20,
   "metadata": {
    "ExecuteTime": {
     "end_time": "2021-11-08T10:36:11.899829Z",
     "start_time": "2021-11-08T10:36:10.928426Z"
    }
   },
   "outputs": [],
   "source": [
    "# Histogram-based Gradient Boosting Regression Tree\n",
    "hist = HistGradientBoostingRegressor()\n",
    "hist.fit(x_train_scaled, y_train)\n",
    "y_pred = hist.predict(x_test_scaled)"
   ]
  },
  {
   "cell_type": "code",
   "execution_count": 21,
   "metadata": {
    "ExecuteTime": {
     "end_time": "2021-11-08T10:36:11.929749Z",
     "start_time": "2021-11-08T10:36:11.901824Z"
    }
   },
   "outputs": [
    {
     "data": {
      "application/javascript": [
       "\n",
       "        if (window._pyforest_update_imports_cell) { window._pyforest_update_imports_cell('import numpy as np\\nfrom sklearn.preprocessing import MinMaxScaler'); }\n",
       "    "
      ],
      "text/plain": [
       "<IPython.core.display.Javascript object>"
      ]
     },
     "metadata": {},
     "output_type": "display_data"
    },
    {
     "name": "stdout",
     "output_type": "stream",
     "text": [
      "R-squared: 0.7199512045441692\n",
      "Root Mean Squared Error: 992189.5711609953\n"
     ]
    }
   ],
   "source": [
    "rmse(hist, y_test, y_pred, x_train_scaled, y_train)"
   ]
  },
  {
   "cell_type": "code",
   "execution_count": 24,
   "metadata": {
    "ExecuteTime": {
     "end_time": "2021-11-08T10:36:48.788881Z",
     "start_time": "2021-11-08T10:36:48.765911Z"
    }
   },
   "outputs": [
    {
     "data": {
      "text/html": [
       "<div>\n",
       "<style scoped>\n",
       "    .dataframe tbody tr th:only-of-type {\n",
       "        vertical-align: middle;\n",
       "    }\n",
       "\n",
       "    .dataframe tbody tr th {\n",
       "        vertical-align: top;\n",
       "    }\n",
       "\n",
       "    .dataframe thead th {\n",
       "        text-align: right;\n",
       "    }\n",
       "</style>\n",
       "<table border=\"1\" class=\"dataframe\">\n",
       "  <thead>\n",
       "    <tr style=\"text-align: right;\">\n",
       "      <th></th>\n",
       "      <th>Model</th>\n",
       "      <th>Adjusted R-Squared</th>\n",
       "      <th>R-Squared</th>\n",
       "      <th>RMSE</th>\n",
       "      <th>Time Taken</th>\n",
       "    </tr>\n",
       "  </thead>\n",
       "  <tbody>\n",
       "    <tr>\n",
       "      <th>6</th>\n",
       "      <td>HistGradientBoostingRegressor</td>\n",
       "      <td>0.72</td>\n",
       "      <td>0.72</td>\n",
       "      <td>992189.57</td>\n",
       "      <td>0.83</td>\n",
       "    </tr>\n",
       "  </tbody>\n",
       "</table>\n",
       "</div>"
      ],
      "text/plain": [
       "                           Model  Adjusted R-Squared  R-Squared      RMSE  Time Taken\n",
       "6  HistGradientBoostingRegressor                0.72       0.72 992189.57        0.83"
      ]
     },
     "execution_count": 24,
     "metadata": {},
     "output_type": "execute_result"
    }
   ],
   "source": [
    "models[models['Model'] == 'HistGradientBoostingRegressor']"
   ]
  },
  {
   "cell_type": "code",
   "execution_count": 23,
   "metadata": {
    "ExecuteTime": {
     "end_time": "2021-11-08T10:36:13.453676Z",
     "start_time": "2021-11-08T10:36:11.961664Z"
    }
   },
   "outputs": [
    {
     "data": {
      "application/javascript": [
       "\n",
       "        if (window._pyforest_update_imports_cell) { window._pyforest_update_imports_cell('import numpy as np\\nimport matplotlib.pyplot as plt\\nfrom sklearn.preprocessing import MinMaxScaler'); }\n",
       "    "
      ],
      "text/plain": [
       "<IPython.core.display.Javascript object>"
      ]
     },
     "metadata": {},
     "output_type": "display_data"
    },
    {
     "data": {
      "application/javascript": [
       "\n",
       "        if (window._pyforest_update_imports_cell) { window._pyforest_update_imports_cell('import numpy as np\\nimport matplotlib.pyplot as plt\\nimport seaborn as sns\\nfrom sklearn.preprocessing import MinMaxScaler'); }\n",
       "    "
      ],
      "text/plain": [
       "<IPython.core.display.Javascript object>"
      ]
     },
     "metadata": {},
     "output_type": "display_data"
    },
    {
     "data": {
      "application/javascript": [
       "\n",
       "        if (window._pyforest_update_imports_cell) { window._pyforest_update_imports_cell('import numpy as np\\nimport matplotlib.pyplot as plt\\nimport seaborn as sns\\nfrom sklearn.preprocessing import MinMaxScaler'); }\n",
       "    "
      ],
      "text/plain": [
       "<IPython.core.display.Javascript object>"
      ]
     },
     "metadata": {},
     "output_type": "display_data"
    },
    {
     "data": {
      "application/javascript": [
       "\n",
       "        if (window._pyforest_update_imports_cell) { window._pyforest_update_imports_cell('import numpy as np\\nimport matplotlib.pyplot as plt\\nimport seaborn as sns\\nfrom sklearn.preprocessing import MinMaxScaler'); }\n",
       "    "
      ],
      "text/plain": [
       "<IPython.core.display.Javascript object>"
      ]
     },
     "metadata": {},
     "output_type": "display_data"
    },
    {
     "data": {
      "application/javascript": [
       "\n",
       "        if (window._pyforest_update_imports_cell) { window._pyforest_update_imports_cell('import numpy as np\\nimport matplotlib.pyplot as plt\\nimport seaborn as sns\\nfrom sklearn.preprocessing import MinMaxScaler'); }\n",
       "    "
      ],
      "text/plain": [
       "<IPython.core.display.Javascript object>"
      ]
     },
     "metadata": {},
     "output_type": "display_data"
    },
    {
     "data": {
      "application/javascript": [
       "\n",
       "        if (window._pyforest_update_imports_cell) { window._pyforest_update_imports_cell('import numpy as np\\nimport matplotlib.pyplot as plt\\nimport seaborn as sns\\nfrom sklearn.preprocessing import MinMaxScaler'); }\n",
       "    "
      ],
      "text/plain": [
       "<IPython.core.display.Javascript object>"
      ]
     },
     "metadata": {},
     "output_type": "display_data"
    },
    {
     "data": {
      "application/javascript": [
       "\n",
       "        if (window._pyforest_update_imports_cell) { window._pyforest_update_imports_cell('import numpy as np\\nimport matplotlib.pyplot as plt\\nimport seaborn as sns\\nfrom sklearn.preprocessing import MinMaxScaler'); }\n",
       "    "
      ],
      "text/plain": [
       "<IPython.core.display.Javascript object>"
      ]
     },
     "metadata": {},
     "output_type": "display_data"
    },
    {
     "data": {
      "image/png": "[encoded data removed]",
      "text/plain": [
       "<Figure size 720x432 with 1 Axes>"
      ]
     },
     "metadata": {
      "needs_background": "light"
     },
     "output_type": "display_data"
    }
   ],
   "source": [
    "scatter_plot(y_test, y_pred, 'Histogram-based Gradient Boosting Regression Tree')"
   ]
  },
  {
   "cell_type": "markdown",
   "metadata": {},
   "source": [
    "# Conclusion\n",
    "\n",
    "- 위와 같이 LazyPredict는 분석하고자 하는 데이터가 사용가능한 모든 모델에 적용될때의 **대략적인 결과** 를 알 수 있다.<br><br>\n",
    "- 따라서 최초에 모델링 구성을 한뒤 앙상블 모델링을 할때 활용하면 매우 유용할 것으로 생각된다.<br><br>\n",
    "- 하지만, 결국엔 파라미터 튜닝등으로 모델의 성능을 향상하는 것은 분석가의 몫이기 때문에 단순참고용으로 활용하는 것이 좋을 것 같다."
   ]
  },
  {
   "cell_type": "markdown",
   "metadata": {},
   "source": [
    "# Reference\n",
    "\n",
    "[How to Run 40 Regression Models with a Few Lines of Code](https://towardsdatascience.com/how-to-run-40-regression-models-with-a-few-lines-of-code-5a24186de7d)"
   ]
  }
 ],
 "metadata": {
  "kernelspec": {
   "display_name": "Python [conda env:my_env]",
   "language": "python",
   "name": "conda-env-my_env-py"
  },
  "language_info": {
   "codemirror_mode": {
    "name": "ipython",
    "version": 3
   },
   "file_extension": ".py",
   "mimetype": "text/x-python",
   "name": "python",
   "nbconvert_exporter": "python",
   "pygments_lexer": "ipython3",
   "version": "3.8.10"
  },
  "latex_envs": {
   "LaTeX_envs_menu_present": true,
   "autoclose": true,
   "autocomplete": true,
   "bibliofile": "biblio.bib",
   "cite_by": "apalike",
   "current_citInitial": 1,
   "eqLabelWithNumbers": true,
   "eqNumInitial": 1,
   "hotkeys": {
    "equation": "Ctrl-E",
    "itemize": "Ctrl-I"
   },
   "labels_anchors": false,
   "latex_user_defs": false,
   "report_style_numbering": true,
   "user_envs_cfg": true
  },
  "toc": {
   "base_numbering": 1,
   "nav_menu": {},
   "number_sections": true,
   "sideBar": true,
   "skip_h1_title": false,
   "title_cell": "Table of Contents",
   "title_sidebar": "Contents",
   "toc_cell": false,
   "toc_position": {},
   "toc_section_display": true,
   "toc_window_display": true
  },
  "varInspector": {
   "cols": {
    "lenName": 16,
    "lenType": 16,
    "lenVar": 40
   },
   "kernels_config": {
    "python": {
     "delete_cmd_postfix": "",
     "delete_cmd_prefix": "del ",
     "library": "var_list.py",
     "varRefreshCmd": "print(var_dic_list())"
    },
    "r": {
     "delete_cmd_postfix": ") ",
     "delete_cmd_prefix": "rm(",
     "library": "var_list.r",
     "varRefreshCmd": "cat(var_dic_list()) "
    }
   },
   "types_to_exclude": [
    "module",
    "function",
    "builtin_function_or_method",
    "instance",
    "_Feature"
   ],
   "window_display": false
  }
 },
 "nbformat": 4,
 "nbformat_minor": 4
}
