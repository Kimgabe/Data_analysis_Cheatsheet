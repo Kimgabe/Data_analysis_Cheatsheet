{
 "cells": [
  {
   "cell_type": "code",
   "execution_count": 1,
   "metadata": {
    "ExecuteTime": {
     "end_time": "2021-11-04T12:33:58.070518Z",
     "start_time": "2021-11-04T12:33:57.197195Z"
    }
   },
   "outputs": [],
   "source": [
    "# 기초 전처리\n",
    "import pandas as pd\n",
    "\n",
    "# 컬럼 전체 확인 가능하도록 출력 범위 설정\n",
    "pd.set_option('display.max_columns', 500)\n",
    "pd.set_option('display.width', 10000)\n",
    "\n",
    "# 불필요한 경고 표시 생략\n",
    "import warnings\n",
    "warnings.filterwarnings(action = 'ignore')\n",
    "\n",
    "# pandas 결과값의 표현 범위 소수점 2자리수로 변경\n",
    "pd.options.display.float_format = '{:.2f}'.format\n",
    "\n",
    "# 파일 로드위한 directory 확인 및 현재 경로로 설정\n",
    "import os\n",
    "a = os.getcwd()\n",
    "os.chdir(a)"
   ]
  },
  {
   "cell_type": "code",
   "execution_count": 2,
   "metadata": {
    "ExecuteTime": {
     "end_time": "2021-11-04T12:34:01.157257Z",
     "start_time": "2021-11-04T12:33:58.073511Z"
    }
   },
   "outputs": [
    {
     "name": "stdout",
     "output_type": "stream",
     "text": [
      "<class 'pandas.core.frame.DataFrame'>\n",
      "Int64Index: 909537 entries, 30 to 30302880\n",
      "Data columns (total 12 columns):\n",
      " #   Column   Non-Null Count   Dtype  \n",
      "---  ------   --------------   -----  \n",
      " 0   고유번호     909537 non-null  float64\n",
      " 1   법정동코드    909537 non-null  int64  \n",
      " 2   법정동명     909537 non-null  object \n",
      " 3   특수지구분코드  909537 non-null  int64  \n",
      " 4   특수지구분명   909537 non-null  object \n",
      " 5   지번       909537 non-null  object \n",
      " 6   기준연도     909537 non-null  int64  \n",
      " 7   기준월      909537 non-null  int64  \n",
      " 8   공시지가     909537 non-null  int64  \n",
      " 9   공시일자     909537 non-null  object \n",
      " 10  표준지여부    909537 non-null  object \n",
      " 11  데이터기준일자  909537 non-null  object \n",
      "dtypes: float64(1), int64(5), object(6)\n",
      "memory usage: 90.2+ MB\n",
      "None\n"
     ]
    },
    {
     "data": {
      "text/html": [
       "<div>\n",
       "<style scoped>\n",
       "    .dataframe tbody tr th:only-of-type {\n",
       "        vertical-align: middle;\n",
       "    }\n",
       "\n",
       "    .dataframe tbody tr th {\n",
       "        vertical-align: top;\n",
       "    }\n",
       "\n",
       "    .dataframe thead th {\n",
       "        text-align: right;\n",
       "    }\n",
       "</style>\n",
       "<table border=\"1\" class=\"dataframe\">\n",
       "  <thead>\n",
       "    <tr style=\"text-align: right;\">\n",
       "      <th></th>\n",
       "      <th>고유번호</th>\n",
       "      <th>법정동코드</th>\n",
       "      <th>법정동명</th>\n",
       "      <th>특수지구분코드</th>\n",
       "      <th>특수지구분명</th>\n",
       "      <th>지번</th>\n",
       "      <th>기준연도</th>\n",
       "      <th>기준월</th>\n",
       "      <th>공시지가</th>\n",
       "      <th>공시일자</th>\n",
       "      <th>표준지여부</th>\n",
       "      <th>데이터기준일자</th>\n",
       "    </tr>\n",
       "  </thead>\n",
       "  <tbody>\n",
       "    <tr>\n",
       "      <th>30</th>\n",
       "      <td>1111010000000000000.00</td>\n",
       "      <td>1111010100</td>\n",
       "      <td>서울특별시 종로구 청운동</td>\n",
       "      <td>1</td>\n",
       "      <td>일반</td>\n",
       "      <td>1</td>\n",
       "      <td>2020</td>\n",
       "      <td>1</td>\n",
       "      <td>4357000</td>\n",
       "      <td>2020-05-29</td>\n",
       "      <td>N</td>\n",
       "      <td>2021-08-03</td>\n",
       "    </tr>\n",
       "    <tr>\n",
       "      <th>43</th>\n",
       "      <td>1111010000000000000.00</td>\n",
       "      <td>1111010100</td>\n",
       "      <td>서울특별시 종로구 청운동</td>\n",
       "      <td>1</td>\n",
       "      <td>일반</td>\n",
       "      <td>01월 01일</td>\n",
       "      <td>2020</td>\n",
       "      <td>1</td>\n",
       "      <td>1392000</td>\n",
       "      <td>2020-05-29</td>\n",
       "      <td>N</td>\n",
       "      <td>2021-08-03</td>\n",
       "    </tr>\n",
       "    <tr>\n",
       "      <th>75</th>\n",
       "      <td>1111010000000000000.00</td>\n",
       "      <td>1111010100</td>\n",
       "      <td>서울특별시 종로구 청운동</td>\n",
       "      <td>1</td>\n",
       "      <td>일반</td>\n",
       "      <td>01월 02일</td>\n",
       "      <td>2020</td>\n",
       "      <td>1</td>\n",
       "      <td>2520000</td>\n",
       "      <td>2020-05-29</td>\n",
       "      <td>N</td>\n",
       "      <td>2021-08-03</td>\n",
       "    </tr>\n",
       "    <tr>\n",
       "      <th>107</th>\n",
       "      <td>1111010000000000000.00</td>\n",
       "      <td>1111010100</td>\n",
       "      <td>서울특별시 종로구 청운동</td>\n",
       "      <td>1</td>\n",
       "      <td>일반</td>\n",
       "      <td>01월 03일</td>\n",
       "      <td>2020</td>\n",
       "      <td>1</td>\n",
       "      <td>4337000</td>\n",
       "      <td>2020-05-29</td>\n",
       "      <td>N</td>\n",
       "      <td>2021-08-03</td>\n",
       "    </tr>\n",
       "    <tr>\n",
       "      <th>120</th>\n",
       "      <td>1111010000000000000.00</td>\n",
       "      <td>1111010100</td>\n",
       "      <td>서울특별시 종로구 청운동</td>\n",
       "      <td>1</td>\n",
       "      <td>일반</td>\n",
       "      <td>01월 04일</td>\n",
       "      <td>2020</td>\n",
       "      <td>1</td>\n",
       "      <td>1554000</td>\n",
       "      <td>2020-05-29</td>\n",
       "      <td>N</td>\n",
       "      <td>2021-08-03</td>\n",
       "    </tr>\n",
       "  </tbody>\n",
       "</table>\n",
       "</div>"
      ],
      "text/plain": [
       "                      고유번호       법정동코드           법정동명  특수지구분코드 특수지구분명       지번  기준연도  기준월     공시지가        공시일자 표준지여부     데이터기준일자\n",
       "30  1111010000000000000.00  1111010100  서울특별시 종로구 청운동        1     일반        1  2020    1  4357000  2020-05-29     N  2021-08-03\n",
       "43  1111010000000000000.00  1111010100  서울특별시 종로구 청운동        1     일반  01월 01일  2020    1  1392000  2020-05-29     N  2021-08-03\n",
       "75  1111010000000000000.00  1111010100  서울특별시 종로구 청운동        1     일반  01월 02일  2020    1  2520000  2020-05-29     N  2021-08-03\n",
       "107 1111010000000000000.00  1111010100  서울특별시 종로구 청운동        1     일반  01월 03일  2020    1  4337000  2020-05-29     N  2021-08-03\n",
       "120 1111010000000000000.00  1111010100  서울특별시 종로구 청운동        1     일반  01월 04일  2020    1  1554000  2020-05-29     N  2021-08-03"
      ]
     },
     "execution_count": 2,
     "metadata": {},
     "output_type": "execute_result"
    }
   ],
   "source": [
    "# 샘플 데이터 load\n",
    "df = pd.read_csv(\"서울시공시지가(2020).csv\", encoding='cp949', index_col=0)\n",
    "print(df.info())\n",
    "df.head()"
   ]
  },
  {
   "cell_type": "markdown",
   "metadata": {},
   "source": [
    "# string 인덱싱 : str[]\n",
    "\n",
    "- 데이터 형식이 object인 컬럼\n",
    "- iloc이나 loc 으로 인덱싱 하는 것과 동일한 방식\n",
    "- **str.find를 접목**해 원하는 문자열만 잘라서 추출할 수 있다."
   ]
  },
  {
   "cell_type": "code",
   "execution_count": 3,
   "metadata": {
    "ExecuteTime": {
     "end_time": "2021-11-04T12:34:01.521314Z",
     "start_time": "2021-11-04T12:34:01.159252Z"
    }
   },
   "outputs": [
    {
     "data": {
      "text/plain": [
       "30     서울특별시\n",
       "43     서울특별시\n",
       "75     서울특별시\n",
       "107    서울특별시\n",
       "120    서울특별시\n",
       "Name: 법정동명, dtype: object"
      ]
     },
     "execution_count": 3,
     "metadata": {},
     "output_type": "execute_result"
    }
   ],
   "source": [
    "# 맨처음부터 5글자 추출 \n",
    "# \n",
    "df['법정동명'].str[:5].head()"
   ]
  },
  {
   "cell_type": "markdown",
   "metadata": {},
   "source": [
    "## 원하는 문자열 위치 찾아서 slice 하기"
   ]
  },
  {
   "cell_type": "code",
   "execution_count": 4,
   "metadata": {
    "ExecuteTime": {
     "end_time": "2021-11-04T12:34:02.772424Z",
     "start_time": "2021-11-04T12:34:01.527269Z"
    }
   },
   "outputs": [
    {
     "name": "stdout",
     "output_type": "stream",
     "text": [
      "30    2\n",
      "Name: 법정동명, dtype: int64\n",
      "30    3\n",
      "Name: 법정동명, dtype: int64\n"
     ]
    }
   ],
   "source": [
    "# find로 원하는 문자열 위치 찾아서 idx 번호 확인\n",
    "print(df['법정동명'].str.find('특').head(1))\n",
    "print(df['법정동명'].str.find('별').head(1))"
   ]
  },
  {
   "cell_type": "code",
   "execution_count": 5,
   "metadata": {
    "ExecuteTime": {
     "end_time": "2021-11-04T12:34:03.050189Z",
     "start_time": "2021-11-04T12:34:02.775416Z"
    }
   },
   "outputs": [
    {
     "data": {
      "text/plain": [
       "30     특별\n",
       "43     특별\n",
       "75     특별\n",
       "107    특별\n",
       "120    특별\n",
       "Name: 법정동명, dtype: object"
      ]
     },
     "execution_count": 5,
     "metadata": {},
     "output_type": "execute_result"
    }
   ],
   "source": [
    "df['법정동명'].str[2:4].head()"
   ]
  },
  {
   "cell_type": "markdown",
   "metadata": {},
   "source": [
    "# string split : str.split()\n",
    "\n",
    "## 데이터를 split해서 컬럼으로 나누기\n",
    "\n",
    "- str.split(\"\") 에서 \"\" 사이에 split하는 기준이 될 조건을 입력한다."
   ]
  },
  {
   "cell_type": "code",
   "execution_count": 6,
   "metadata": {
    "ExecuteTime": {
     "end_time": "2021-11-04T12:34:03.080109Z",
     "start_time": "2021-11-04T12:34:03.052186Z"
    }
   },
   "outputs": [
    {
     "data": {
      "text/html": [
       "<div>\n",
       "<style scoped>\n",
       "    .dataframe tbody tr th:only-of-type {\n",
       "        vertical-align: middle;\n",
       "    }\n",
       "\n",
       "    .dataframe tbody tr th {\n",
       "        vertical-align: top;\n",
       "    }\n",
       "\n",
       "    .dataframe thead th {\n",
       "        text-align: right;\n",
       "    }\n",
       "</style>\n",
       "<table border=\"1\" class=\"dataframe\">\n",
       "  <thead>\n",
       "    <tr style=\"text-align: right;\">\n",
       "      <th></th>\n",
       "      <th>법정동코드</th>\n",
       "      <th>법정동명</th>\n",
       "    </tr>\n",
       "  </thead>\n",
       "  <tbody>\n",
       "    <tr>\n",
       "      <th>30</th>\n",
       "      <td>1111010100</td>\n",
       "      <td>서울특별시 종로구 청운동</td>\n",
       "    </tr>\n",
       "    <tr>\n",
       "      <th>43</th>\n",
       "      <td>1111010100</td>\n",
       "      <td>서울특별시 종로구 청운동</td>\n",
       "    </tr>\n",
       "    <tr>\n",
       "      <th>75</th>\n",
       "      <td>1111010100</td>\n",
       "      <td>서울특별시 종로구 청운동</td>\n",
       "    </tr>\n",
       "  </tbody>\n",
       "</table>\n",
       "</div>"
      ],
      "text/plain": [
       "         법정동코드           법정동명\n",
       "30  1111010100  서울특별시 종로구 청운동\n",
       "43  1111010100  서울특별시 종로구 청운동\n",
       "75  1111010100  서울특별시 종로구 청운동"
      ]
     },
     "execution_count": 6,
     "metadata": {},
     "output_type": "execute_result"
    }
   ],
   "source": [
    "df[['법정동코드','법정동명']].head(3)"
   ]
  },
  {
   "cell_type": "code",
   "execution_count": 7,
   "metadata": {
    "ExecuteTime": {
     "end_time": "2021-11-04T12:34:04.127430Z",
     "start_time": "2021-11-04T12:34:03.082105Z"
    }
   },
   "outputs": [
    {
     "data": {
      "text/plain": [
       "30          [서울특별시, 종로구, 청운동]\n",
       "43          [서울특별시, 종로구, 청운동]\n",
       "75          [서울특별시, 종로구, 청운동]\n",
       "107         [서울특별시, 종로구, 청운동]\n",
       "120         [서울특별시, 종로구, 청운동]\n",
       "                  ...        \n",
       "30302774    [서울특별시, 강동구, 강일동]\n",
       "30302784    [서울특별시, 강동구, 강일동]\n",
       "30302815    [서울특별시, 강동구, 강일동]\n",
       "30302846    [서울특별시, 강동구, 강일동]\n",
       "30302880    [서울특별시, 강동구, 강일동]\n",
       "Name: 법정동명, Length: 909537, dtype: object"
      ]
     },
     "execution_count": 7,
     "metadata": {},
     "output_type": "execute_result"
    }
   ],
   "source": [
    "df['법정동명'].str.split(\" \") # 공백 = 띄어쓰기 기준으로 split"
   ]
  },
  {
   "cell_type": "code",
   "execution_count": null,
   "metadata": {
    "ExecuteTime": {
     "start_time": "2021-11-04T12:33:57.294Z"
    },
    "code_folding": []
   },
   "outputs": [],
   "source": [
    "# df에 바로 컬럼으로 추가하기(1)\n",
    "# expand=True 이면 split될때마다 하나의 컬럼으로 구분된다.\n",
    "df['법정동명'].str.split(\" \", expand=True).head()"
   ]
  },
  {
   "cell_type": "code",
   "execution_count": null,
   "metadata": {
    "ExecuteTime": {
     "start_time": "2021-11-04T12:33:57.296Z"
    }
   },
   "outputs": [],
   "source": [
    "# df에 바로 컬럼으로 추가하기(2)\n",
    "# split한 Series 형태의 결과를 DataFrame으로 만들기\n",
    "split = df['법정동명'].str.split(\" \").head()\n",
    "split = split.apply(lambda x : pd.Series(x))\n",
    "split"
   ]
  },
  {
   "cell_type": "code",
   "execution_count": null,
   "metadata": {
    "ExecuteTime": {
     "start_time": "2021-11-04T12:33:57.298Z"
    }
   },
   "outputs": [],
   "source": [
    "# tip. df.stack()으로 데이터 프레임의 행 <-> 열 바꾸기 도 가능\n",
    "split.stack()"
   ]
  },
  {
   "cell_type": "markdown",
   "metadata": {
    "ExecuteTime": {
     "end_time": "2021-11-04T09:00:47.204135Z",
     "start_time": "2021-11-04T09:00:46.287610Z"
    }
   },
   "source": [
    "## 한 데이터를 split으로 여러 행으로 나누기"
   ]
  },
  {
   "cell_type": "code",
   "execution_count": null,
   "metadata": {
    "ExecuteTime": {
     "start_time": "2021-11-04T12:33:57.339Z"
    }
   },
   "outputs": [],
   "source": [
    "# 예제 용 df 생성\n",
    "df2 = pd.DataFrame({'foo': ['a,b,c,d,e', 'd,e,f', 'h,i']})\n",
    "df2"
   ]
  },
  {
   "cell_type": "code",
   "execution_count": null,
   "metadata": {
    "ExecuteTime": {
     "start_time": "2021-11-04T12:33:57.341Z"
    }
   },
   "outputs": [],
   "source": [
    "# split을 사용해서 , 기준으로 데이어를 나누기\n",
    "df2['foo'].str.split(',')"
   ]
  },
  {
   "cell_type": "code",
   "execution_count": null,
   "metadata": {
    "ExecuteTime": {
     "start_time": "2021-11-04T12:33:57.344Z"
    }
   },
   "outputs": [],
   "source": [
    "# 동일 결과\n",
    "df2.foo.str.split(',')"
   ]
  },
  {
   "cell_type": "markdown",
   "metadata": {},
   "source": [
    "# 시작하는 글자와 일치하는 문자열 찾기 str.startwith()\n",
    "\n",
    "- boolean을 반환한다.\n",
    "- 입력한 글자로 시작하면 True / 아니면 False"
   ]
  },
  {
   "cell_type": "code",
   "execution_count": null,
   "metadata": {
    "ExecuteTime": {
     "start_time": "2021-11-04T12:33:57.383Z"
    }
   },
   "outputs": [],
   "source": [
    "# 그냥 조건입력만 하면 T / F로만 나온다.\n",
    "df['법정동명'].str.startswith(\"서울\")"
   ]
  },
  {
   "cell_type": "code",
   "execution_count": null,
   "metadata": {
    "ExecuteTime": {
     "start_time": "2021-11-04T12:33:57.386Z"
    }
   },
   "outputs": [],
   "source": [
    "# 실제 데이터를 보려면 \n",
    "df[df['법정동명'].str.startswith(\"서울\")].head(2)"
   ]
  },
  {
   "cell_type": "code",
   "execution_count": null,
   "metadata": {
    "ExecuteTime": {
     "start_time": "2021-11-04T12:33:57.388Z"
    }
   },
   "outputs": [],
   "source": [
    "# 시작글자가 일치하지 않으면 아무것도 출력되지 않는다. \n",
    "df[df['법정동명'].str.startswith(\"종로구\")].head(2)"
   ]
  },
  {
   "cell_type": "markdown",
   "metadata": {},
   "source": [
    "# 끝 글자와 일치하는 문자열 찾기 str.endswith()\n",
    "\n",
    "- str.startswith()와 동일방식"
   ]
  },
  {
   "cell_type": "code",
   "execution_count": null,
   "metadata": {
    "ExecuteTime": {
     "start_time": "2021-11-04T12:33:57.504Z"
    }
   },
   "outputs": [],
   "source": [
    "# 그냥 조건입력만 하면 T / F로만 나온다.\n",
    "df['법정동명'].str.endswith(\"구\")"
   ]
  },
  {
   "cell_type": "code",
   "execution_count": null,
   "metadata": {
    "ExecuteTime": {
     "start_time": "2021-11-04T12:33:57.508Z"
    }
   },
   "outputs": [],
   "source": [
    "# 실제 데이터를 보려면 \n",
    "df[df['법정동명'].str.endswith(\"쌍문동\")].head(2)"
   ]
  },
  {
   "cell_type": "code",
   "execution_count": null,
   "metadata": {
    "ExecuteTime": {
     "start_time": "2021-11-04T12:33:57.511Z"
    }
   },
   "outputs": [],
   "source": [
    "# 끝글자가 일치하지 않으면 아무것도 출력되지 않는다.\n",
    "df[df['법정동명'].str.endswith(\"쌍문\")].head(2)"
   ]
  },
  {
   "cell_type": "markdown",
   "metadata": {},
   "source": [
    "# 문자열을 포함하는 데이터 찾기 str.contains()\n",
    "\n",
    "- 시작과 끝글자말고, 중간에 있는 글자값을 찾고 싶을때 사용"
   ]
  },
  {
   "cell_type": "code",
   "execution_count": null,
   "metadata": {
    "ExecuteTime": {
     "start_time": "2021-11-04T12:33:57.555Z"
    }
   },
   "outputs": [],
   "source": [
    "# str.endswith()에서는 일치하는 결과가 없었지만 이번에는 출력이 된다.\n",
    "df[df['법정동명'].str.contains(\"쌍문\")].head(2)"
   ]
  },
  {
   "cell_type": "code",
   "execution_count": null,
   "metadata": {
    "ExecuteTime": {
     "start_time": "2021-11-04T12:33:57.558Z"
    }
   },
   "outputs": [],
   "source": [
    "# 한글자도 가능하다.\n",
    "df[df['법정동명'].str.contains(\"특\")].head(2)"
   ]
  },
  {
   "cell_type": "markdown",
   "metadata": {},
   "source": [
    "# 조건에 부합하는 모든 값 찾기 str.findall()\n",
    "\n",
    "- 정규표현식을 섞어서 문자 + 숫자 등도 찾을 수 있다."
   ]
  },
  {
   "cell_type": "code",
   "execution_count": null,
   "metadata": {
    "ExecuteTime": {
     "start_time": "2021-11-04T12:33:57.590Z"
    }
   },
   "outputs": [],
   "source": [
    "# 지번 컬럼에서 '\\w = 숫자' + '일' 인 데이터 찾기\n",
    "df['지번'].str.findall('\\w+일').head()"
   ]
  },
  {
   "cell_type": "markdown",
   "metadata": {},
   "source": [
    "# 특정 문자의 위치 찾기 str.find() \n",
    "\n",
    "- 시작점 (왼쪽) 부터 검색을 시작해서 위치를 반환한다.\n",
    "- 일치하는 데이터가 없으면 -1을 return한다."
   ]
  },
  {
   "cell_type": "code",
   "execution_count": null,
   "metadata": {
    "ExecuteTime": {
     "start_time": "2021-11-04T12:33:57.625Z"
    }
   },
   "outputs": [],
   "source": [
    "# 법정동명 컬럼에서 ' ' <- 공백을 찾겠다.\n",
    "df['법정동명'].str.find(' ').head()\n",
    "\n",
    "# 모든 값이 '서울특별시 ~구 ~동'형태이다.\n",
    "# 즉 첫번째 ' '는 서울특별시 바로 뒤 인 5번째 idx 값이다."
   ]
  },
  {
   "cell_type": "markdown",
   "metadata": {},
   "source": [
    "## 오른쪽부터 찾기 str.rfind()\n",
    "\n",
    "- 오른쪽부터 검색을 시작한다.\n",
    "- sub 옵션으로 부분일치도 찾을 수 있다."
   ]
  },
  {
   "cell_type": "code",
   "execution_count": null,
   "metadata": {
    "ExecuteTime": {
     "start_time": "2021-11-04T12:33:57.659Z"
    }
   },
   "outputs": [],
   "source": [
    "# 법정동명 컬럼의 각 row에서 오른쪽부터 검색했을때 '구'가 처음 등장하는 위치(idx)\n",
    "df['법정동명'].str.rfind('구').head()"
   ]
  },
  {
   "cell_type": "markdown",
   "metadata": {},
   "source": [
    "# 문자열 대체하기 str.replace()"
   ]
  },
  {
   "cell_type": "code",
   "execution_count": null,
   "metadata": {
    "ExecuteTime": {
     "start_time": "2021-11-04T12:33:57.692Z"
    }
   },
   "outputs": [],
   "source": [
    "# 공백(\" \")을 '_'로 replace\n",
    "df['법정동명'].str.replace(\" \",'_').head()"
   ]
  },
  {
   "cell_type": "markdown",
   "metadata": {},
   "source": [
    "# 원하는 문자열 추출하기 str.extract()\n",
    "\n",
    "- () 내에 패턴을 지정해야 한다.\n",
    "- 패턴과 일치하는 단어가 없으면 NaN이 출력된다."
   ]
  },
  {
   "cell_type": "code",
   "execution_count": null,
   "metadata": {
    "ExecuteTime": {
     "start_time": "2021-11-04T12:33:57.727Z"
    }
   },
   "outputs": [],
   "source": [
    "# 단일 조건\n",
    "df['법정동명'].str.extract('(\\w*시)').head()"
   ]
  },
  {
   "cell_type": "code",
   "execution_count": null,
   "metadata": {
    "ExecuteTime": {
     "start_time": "2021-11-04T12:33:57.730Z"
    }
   },
   "outputs": [],
   "source": [
    "# 중복조건 : '|' 를 통해 중복 조건을 지정할 수 있다.\n",
    "# 일치 조건이 없다면 NaN이 출력된다.\n",
    "df['법정동명'].str.extract('(\\w*시)|( \\w*동)').head()"
   ]
  },
  {
   "cell_type": "markdown",
   "metadata": {},
   "source": [
    "# 문자열 길이 채우기 str.pad(width=, side=, fillchar='')\n",
    "\n",
    "- 문자열 길이가 고정되어 특정 문자열 수 만큼 값을 채워줘야 할때 활용한다.\n",
    "- with로 총 몇개의 문자열이 되야 하는지\n",
    "- side로 문자열값의 left / right 어느쪽을 채울건지\n",
    "- fillchar로 어떤걸로 채울건지 지정할 수 있다."
   ]
  },
  {
   "cell_type": "code",
   "execution_count": null,
   "metadata": {
    "ExecuteTime": {
     "start_time": "2021-11-04T12:33:57.769Z"
    }
   },
   "outputs": [],
   "source": [
    "# 각 rows의 문자열 len()한 값이 20이 되도록\n",
    "# 문자열값의 오른쪽부터 \n",
    "# '+'를 사용해서 채운다\n",
    "\n",
    "df['법정동명'].str.pad(width=20, side='right', fillchar='+').head()"
   ]
  },
  {
   "cell_type": "markdown",
   "metadata": {},
   "source": [
    "## 좌/우 동시에 width만큼 채워넣기 : str.center()"
   ]
  },
  {
   "cell_type": "code",
   "execution_count": null,
   "metadata": {
    "ExecuteTime": {
     "start_time": "2021-11-04T12:33:57.805Z"
    }
   },
   "outputs": [],
   "source": [
    "# side를 생략하고, pad대신에 center을 사용하면 양쪽에 지정한 문자열로 width 값이 될때까지 채운다.\n",
    "df['법정동명'].str.center(width=30, fillchar='+').head()"
   ]
  },
  {
   "cell_type": "markdown",
   "metadata": {},
   "source": [
    "## 왼쪽부터 0으로 채우기 : str.zfill()"
   ]
  },
  {
   "cell_type": "code",
   "execution_count": null,
   "metadata": {
    "ExecuteTime": {
     "start_time": "2021-11-04T12:33:57.924Z"
    }
   },
   "outputs": [],
   "source": [
    "df['법정동명'].str.zfill(width=20).head()"
   ]
  },
  {
   "cell_type": "markdown",
   "metadata": {},
   "source": [
    "# 공백 제거 strip()"
   ]
  },
  {
   "cell_type": "code",
   "execution_count": null,
   "metadata": {
    "ExecuteTime": {
     "start_time": "2021-11-04T12:33:57.987Z"
    }
   },
   "outputs": [],
   "source": [
    "# 예제용 df\n",
    "df3 = pd.DataFrame({'col1':['abcde  ',' FFFFghij ','abCCe   '],\n",
    "                    'col2':['   fgHAAij  ',' fghij ','lmnop   ']})\n",
    "df3"
   ]
  },
  {
   "cell_type": "code",
   "execution_count": null,
   "metadata": {
    "ExecuteTime": {
     "start_time": "2021-11-04T12:33:57.990Z"
    }
   },
   "outputs": [],
   "source": [
    "test1 = df3['col1'].str.strip()  # 앞 뒤 공백을 제거\n",
    "test1.iloc[1]# 확인"
   ]
  },
  {
   "cell_type": "code",
   "execution_count": null,
   "metadata": {
    "ExecuteTime": {
     "start_time": "2021-11-04T12:33:57.992Z"
    }
   },
   "outputs": [],
   "source": [
    "test2 = df3['col1'].str.lstrip()  # 앞 공백을 제거\n",
    "test2.iloc[1]# 확인"
   ]
  },
  {
   "cell_type": "code",
   "execution_count": null,
   "metadata": {
    "ExecuteTime": {
     "start_time": "2021-11-04T12:33:57.996Z"
    }
   },
   "outputs": [],
   "source": [
    "test3 = df3['col1'].str.rstrip()  # 뒤 공백을 제거\n",
    "test3.iloc[1]# 확인"
   ]
  },
  {
   "cell_type": "markdown",
   "metadata": {},
   "source": [
    "# 대소문자 변경"
   ]
  },
  {
   "cell_type": "markdown",
   "metadata": {},
   "source": [
    "## 소문자 변경 str.lower()"
   ]
  },
  {
   "cell_type": "code",
   "execution_count": null,
   "metadata": {
    "ExecuteTime": {
     "start_time": "2021-11-04T12:33:58.078Z"
    }
   },
   "outputs": [],
   "source": [
    "df3['col1'].str.lower()"
   ]
  },
  {
   "cell_type": "markdown",
   "metadata": {},
   "source": [
    "## 대문자 변경 str.upper()"
   ]
  },
  {
   "cell_type": "code",
   "execution_count": null,
   "metadata": {
    "ExecuteTime": {
     "start_time": "2021-11-04T12:33:58.121Z"
    }
   },
   "outputs": [],
   "source": [
    "df3['col1'].str.upper()"
   ]
  },
  {
   "cell_type": "markdown",
   "metadata": {},
   "source": [
    "## 소문자 to 대문자 / 대문자 to 소문자 한번에! swapcase()"
   ]
  },
  {
   "cell_type": "code",
   "execution_count": null,
   "metadata": {
    "ExecuteTime": {
     "start_time": "2021-11-04T12:33:58.162Z"
    }
   },
   "outputs": [],
   "source": [
    "df3['col1'].str.swapcase()"
   ]
  },
  {
   "cell_type": "markdown",
   "metadata": {},
   "source": [
    "# Reference\n",
    "\n",
    "- [꿀벌개발일지](https://ohgyun.com/768)\n",
    "- [stackoverflow](https://stackoverflow.com/questions/41087619/pandas-merge-how-to-avoid-unnamed-column/41088706)\n",
    "- [yg's blog](https://yganalyst.github.io/data_handling/memo_9/)"
   ]
  }
 ],
 "metadata": {
  "kernelspec": {
   "display_name": "Python [conda env:my_env]",
   "language": "python",
   "name": "conda-env-my_env-py"
  },
  "language_info": {
   "codemirror_mode": {
    "name": "ipython",
    "version": 3
   },
   "file_extension": ".py",
   "mimetype": "text/x-python",
   "name": "python",
   "nbconvert_exporter": "python",
   "pygments_lexer": "ipython3",
   "version": "3.8.10"
  },
  "latex_envs": {
   "LaTeX_envs_menu_present": true,
   "autoclose": true,
   "autocomplete": true,
   "bibliofile": "biblio.bib",
   "cite_by": "apalike",
   "current_citInitial": 1,
   "eqLabelWithNumbers": true,
   "eqNumInitial": 1,
   "hotkeys": {
    "equation": "Ctrl-E",
    "itemize": "Ctrl-I"
   },
   "labels_anchors": false,
   "latex_user_defs": false,
   "report_style_numbering": true,
   "user_envs_cfg": true
  },
  "toc": {
   "base_numbering": 1,
   "nav_menu": {},
   "number_sections": true,
   "sideBar": true,
   "skip_h1_title": false,
   "title_cell": "Table of Contents",
   "title_sidebar": "Contents",
   "toc_cell": false,
   "toc_position": {},
   "toc_section_display": true,
   "toc_window_display": true
  },
  "varInspector": {
   "cols": {
    "lenName": 16,
    "lenType": 16,
    "lenVar": 40
   },
   "kernels_config": {
    "python": {
     "delete_cmd_postfix": "",
     "delete_cmd_prefix": "del ",
     "library": "var_list.py",
     "varRefreshCmd": "print(var_dic_list())"
    },
    "r": {
     "delete_cmd_postfix": ") ",
     "delete_cmd_prefix": "rm(",
     "library": "var_list.r",
     "varRefreshCmd": "cat(var_dic_list()) "
    }
   },
   "types_to_exclude": [
    "module",
    "function",
    "builtin_function_or_method",
    "instance",
    "_Feature"
   ],
   "window_display": false
  }
 },
 "nbformat": 4,
 "nbformat_minor": 4
}
